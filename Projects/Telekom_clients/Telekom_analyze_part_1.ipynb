{
 "cells": [
  {
   "cell_type": "markdown",
   "metadata": {},
   "source": [
    "## Определение перспективного тарифа для телеком компании"
   ]
  },
  {
   "cell_type": "markdown",
   "metadata": {},
   "source": [
    "### Описание проекта"
   ]
  },
  {
   "cell_type": "markdown",
   "metadata": {},
   "source": [
    "### Описание данных"
   ]
  },
  {
   "cell_type": "markdown",
   "metadata": {},
   "source": [
    "* Таблица users (информация о пользователях):\n",
    "    - user_id — уникальный идентификатор пользователя\n",
    "    - first_name — имя пользователя\n",
    "    - last_name — фамилия пользователя\n",
    "    - age — возраст пользователя (годы)\n",
    "    - reg_date — дата подключения тарифа (день, месяц, год)\n",
    "    - churn_date — дата прекращения пользования тарифом (если значение пропущено, то тариф ещё действовал на момент выгрузки данных)\n",
    "    - city — город проживания пользователя\n",
    "    - tariff — название тарифного плана\n",
    "* Таблица calls (информация о звонках):\n",
    "    - id — уникальный номер звонка\n",
    "    - call_date — дата звонка\n",
    "    - duration — длительность звонка в минутах\n",
    "    - user_id — идентификатор пользователя, сделавшего звонок\n",
    "* Таблица messages (информация о сообщениях):\n",
    "    - id — уникальный номер сообщения\n",
    "    - message_date — дата сообщения\n",
    "    - user_id — идентификатор пользователя, отправившего сообщение\n",
    "* Таблица internet (информация об интернет-сессиях):\n",
    "    - id — уникальный номер сессии\n",
    "    - mb_used — объём потраченного за сессию интернет-трафика (в мегабайтах)\n",
    "    - session_date — дата интернет-сессии\n",
    "    - user_id — идентификатор пользователя\n",
    "* Таблица tariffs (информация о тарифах):\n",
    "    - tariff_name — название тарифа\n",
    "    - rub_monthly_fee — ежемесячная абонентская плата в рублях\n",
    "    - minutes_included — количество минут разговора в месяц, включённых в абонентскую плату\n",
    "    - messages_included — количество сообщений в месяц, включённых в абонентскую плату\n",
    "    - mb_per_month_included — объём интернет-трафика, включённого в абонентскую плату (в мегабайтах)\n",
    "    - rub_per_minute — стоимость минуты разговора сверх тарифного пакета (например, если в тарифе 100 минут разговора в месяц, то со 101 минуты будет взиматься плата)\n",
    "    - rub_per_message — стоимость отправки сообщения сверх тарифного пакета\n",
    "    - rub_per_gb — стоимость дополнительного гигабайта интернет-трафика сверх тарифного пакета (1 гигабайт = 1024 мегабайта)"
   ]
  },
  {
   "cell_type": "markdown",
   "metadata": {},
   "source": [
    "---"
   ]
  },
  {
   "cell_type": "markdown",
   "metadata": {},
   "source": [
    "##### Шаг 1. Откройте файл с данными и изучите общую информацию"
   ]
  },
  {
   "cell_type": "code",
   "execution_count": 1,
   "metadata": {},
   "outputs": [],
   "source": [
    "import pandas as pd\n",
    "import numpy as np\n",
    "from scipy import stats as st"
   ]
  },
  {
   "cell_type": "code",
   "execution_count": 2,
   "metadata": {},
   "outputs": [],
   "source": [
    "df_calls=pd.read_csv('/datasets/calls.csv')\n",
    "df_internet=pd.read_csv('/datasets/internet.csv')\n",
    "df_messages=pd.read_csv('/datasets/messages.csv')\n",
    "df_tariffs=pd.read_csv('/datasets/tariffs.csv')\n",
    "df_users=pd.read_csv('/datasets/users.csv')"
   ]
  },
  {
   "cell_type": "code",
   "execution_count": 3,
   "metadata": {},
   "outputs": [
    {
     "name": "stdout",
     "output_type": "stream",
     "text": [
      "<class 'pandas.core.frame.DataFrame'>\n",
      "RangeIndex: 202607 entries, 0 to 202606\n",
      "Data columns (total 4 columns):\n",
      "id           202607 non-null object\n",
      "call_date    202607 non-null object\n",
      "duration     202607 non-null float64\n",
      "user_id      202607 non-null int64\n",
      "dtypes: float64(1), int64(1), object(2)\n",
      "memory usage: 6.2+ MB\n"
     ]
    }
   ],
   "source": [
    "df_calls.info()"
   ]
  },
  {
   "cell_type": "code",
   "execution_count": 4,
   "metadata": {},
   "outputs": [
    {
     "name": "stdout",
     "output_type": "stream",
     "text": [
      "<class 'pandas.core.frame.DataFrame'>\n",
      "RangeIndex: 149396 entries, 0 to 149395\n",
      "Data columns (total 5 columns):\n",
      "Unnamed: 0      149396 non-null int64\n",
      "id              149396 non-null object\n",
      "mb_used         149396 non-null float64\n",
      "session_date    149396 non-null object\n",
      "user_id         149396 non-null int64\n",
      "dtypes: float64(1), int64(2), object(2)\n",
      "memory usage: 5.7+ MB\n"
     ]
    }
   ],
   "source": [
    "df_internet.info()"
   ]
  },
  {
   "cell_type": "code",
   "execution_count": 5,
   "metadata": {},
   "outputs": [
    {
     "name": "stdout",
     "output_type": "stream",
     "text": [
      "<class 'pandas.core.frame.DataFrame'>\n",
      "RangeIndex: 123036 entries, 0 to 123035\n",
      "Data columns (total 3 columns):\n",
      "id              123036 non-null object\n",
      "message_date    123036 non-null object\n",
      "user_id         123036 non-null int64\n",
      "dtypes: int64(1), object(2)\n",
      "memory usage: 2.8+ MB\n"
     ]
    }
   ],
   "source": [
    "df_messages.info()"
   ]
  },
  {
   "cell_type": "code",
   "execution_count": 6,
   "metadata": {},
   "outputs": [
    {
     "name": "stdout",
     "output_type": "stream",
     "text": [
      "<class 'pandas.core.frame.DataFrame'>\n",
      "RangeIndex: 2 entries, 0 to 1\n",
      "Data columns (total 8 columns):\n",
      "messages_included        2 non-null int64\n",
      "mb_per_month_included    2 non-null int64\n",
      "minutes_included         2 non-null int64\n",
      "rub_monthly_fee          2 non-null int64\n",
      "rub_per_gb               2 non-null int64\n",
      "rub_per_message          2 non-null int64\n",
      "rub_per_minute           2 non-null int64\n",
      "tariff_name              2 non-null object\n",
      "dtypes: int64(7), object(1)\n",
      "memory usage: 256.0+ bytes\n"
     ]
    }
   ],
   "source": [
    "df_tariffs.info()"
   ]
  },
  {
   "cell_type": "code",
   "execution_count": 7,
   "metadata": {},
   "outputs": [
    {
     "name": "stdout",
     "output_type": "stream",
     "text": [
      "<class 'pandas.core.frame.DataFrame'>\n",
      "RangeIndex: 500 entries, 0 to 499\n",
      "Data columns (total 8 columns):\n",
      "user_id       500 non-null int64\n",
      "age           500 non-null int64\n",
      "churn_date    38 non-null object\n",
      "city          500 non-null object\n",
      "first_name    500 non-null object\n",
      "last_name     500 non-null object\n",
      "reg_date      500 non-null object\n",
      "tariff        500 non-null object\n",
      "dtypes: int64(2), object(6)\n",
      "memory usage: 31.4+ KB\n"
     ]
    }
   ],
   "source": [
    "df_users.info()"
   ]
  },
  {
   "cell_type": "markdown",
   "metadata": {},
   "source": [
    "##### Шаг 2. Подготовьте данные"
   ]
  },
  {
   "cell_type": "markdown",
   "metadata": {},
   "source": [
    "Объединим таблицы 'df_calls','df_internet','df_messages' с 'df_users'. Для этого подготовим столбцы, чтобы далее проще было группировать, и создадим в каждой таблице столбец с датой и месяцем."
   ]
  },
  {
   "cell_type": "code",
   "execution_count": 8,
   "metadata": {},
   "outputs": [],
   "source": [
    "df_list=[df_calls,df_internet,df_messages]\n",
    "date_list=['call_date','session_date','message_date']\n",
    "for df,date in zip(df_list,date_list):\n",
    "    df['date']=pd.to_datetime(df[date], format='%Y-%m-%d' )\n",
    "    df['month']=pd.DatetimeIndex(df[date]).month\n",
    "    "
   ]
  },
  {
   "cell_type": "markdown",
   "metadata": {},
   "source": [
    "Сгруппируем таблицы под 'user_id' и 'month' и оставим в качестве индекса только 'user_id'."
   ]
  },
  {
   "cell_type": "code",
   "execution_count": 9,
   "metadata": {},
   "outputs": [],
   "source": [
    "df_calls_gr=df_calls.groupby(['user_id','month'])['duration'].sum().reset_index(level='month')\n",
    "df_internet_gr=df_internet.groupby(['user_id','month'])['mb_used'].sum().reset_index(level='month')\n",
    "df_messages_gr=df_messages.groupby(['user_id','month'])['message_date'].count()\n"
   ]
  },
  {
   "cell_type": "markdown",
   "metadata": {},
   "source": [
    "Переименуем столбцы, чтобы после объединения можно было различать данные и не возвращаться с данной задаче"
   ]
  },
  {
   "cell_type": "code",
   "execution_count": 10,
   "metadata": {},
   "outputs": [],
   "source": [
    "df_calls_gr.columns=['month','calls_duration']\n",
    "df_internet_gr.columns=['month','internet_mb_used']\n",
    "df_messages_gr.name='messages'"
   ]
  },
  {
   "cell_type": "markdown",
   "metadata": {},
   "source": [
    "По очереди объединим таблицы 'df_calls_gr','df_internet_gr','df_messages_gr' c 'df_users'. Воспользуемся функцией how='outer', чтобы не потерять данные."
   ]
  },
  {
   "cell_type": "code",
   "execution_count": 11,
   "metadata": {},
   "outputs": [],
   "source": [
    "df_users_total=df_users.merge(df_calls_gr,on='user_id',how='outer')\n"
   ]
  },
  {
   "cell_type": "markdown",
   "metadata": {},
   "source": [
    "Будем объединять по двум столбцам 'user_id' , 'month'"
   ]
  },
  {
   "cell_type": "code",
   "execution_count": 12,
   "metadata": {},
   "outputs": [],
   "source": [
    "df_users_total=df_users_total.merge(df_internet_gr,on=('user_id','month'),how='outer')\n"
   ]
  },
  {
   "cell_type": "code",
   "execution_count": 13,
   "metadata": {
    "scrolled": false
   },
   "outputs": [],
   "source": [
    "df_users_total=df_users_total.merge(df_messages_gr,on=('user_id','month'),how='outer')\n"
   ]
  },
  {
   "cell_type": "code",
   "execution_count": 14,
   "metadata": {},
   "outputs": [
    {
     "data": {
      "text/html": [
       "<div>\n",
       "<style scoped>\n",
       "    .dataframe tbody tr th:only-of-type {\n",
       "        vertical-align: middle;\n",
       "    }\n",
       "\n",
       "    .dataframe tbody tr th {\n",
       "        vertical-align: top;\n",
       "    }\n",
       "\n",
       "    .dataframe thead th {\n",
       "        text-align: right;\n",
       "    }\n",
       "</style>\n",
       "<table border=\"1\" class=\"dataframe\">\n",
       "  <thead>\n",
       "    <tr style=\"text-align: right;\">\n",
       "      <th></th>\n",
       "      <th>user_id</th>\n",
       "      <th>age</th>\n",
       "      <th>churn_date</th>\n",
       "      <th>city</th>\n",
       "      <th>first_name</th>\n",
       "      <th>last_name</th>\n",
       "      <th>reg_date</th>\n",
       "      <th>tariff</th>\n",
       "      <th>month</th>\n",
       "      <th>calls_duration</th>\n",
       "      <th>internet_mb_used</th>\n",
       "      <th>messages</th>\n",
       "    </tr>\n",
       "  </thead>\n",
       "  <tbody>\n",
       "    <tr>\n",
       "      <td>0</td>\n",
       "      <td>1000</td>\n",
       "      <td>52.0</td>\n",
       "      <td>NaN</td>\n",
       "      <td>Краснодар</td>\n",
       "      <td>Рафаил</td>\n",
       "      <td>Верещагин</td>\n",
       "      <td>2018-05-25</td>\n",
       "      <td>ultra</td>\n",
       "      <td>5.0</td>\n",
       "      <td>150.06</td>\n",
       "      <td>2253.49</td>\n",
       "      <td>22.0</td>\n",
       "    </tr>\n",
       "    <tr>\n",
       "      <td>1</td>\n",
       "      <td>1000</td>\n",
       "      <td>52.0</td>\n",
       "      <td>NaN</td>\n",
       "      <td>Краснодар</td>\n",
       "      <td>Рафаил</td>\n",
       "      <td>Верещагин</td>\n",
       "      <td>2018-05-25</td>\n",
       "      <td>ultra</td>\n",
       "      <td>6.0</td>\n",
       "      <td>158.90</td>\n",
       "      <td>23233.77</td>\n",
       "      <td>60.0</td>\n",
       "    </tr>\n",
       "    <tr>\n",
       "      <td>2</td>\n",
       "      <td>1000</td>\n",
       "      <td>52.0</td>\n",
       "      <td>NaN</td>\n",
       "      <td>Краснодар</td>\n",
       "      <td>Рафаил</td>\n",
       "      <td>Верещагин</td>\n",
       "      <td>2018-05-25</td>\n",
       "      <td>ultra</td>\n",
       "      <td>7.0</td>\n",
       "      <td>318.80</td>\n",
       "      <td>14003.64</td>\n",
       "      <td>75.0</td>\n",
       "    </tr>\n",
       "    <tr>\n",
       "      <td>3</td>\n",
       "      <td>1000</td>\n",
       "      <td>52.0</td>\n",
       "      <td>NaN</td>\n",
       "      <td>Краснодар</td>\n",
       "      <td>Рафаил</td>\n",
       "      <td>Верещагин</td>\n",
       "      <td>2018-05-25</td>\n",
       "      <td>ultra</td>\n",
       "      <td>8.0</td>\n",
       "      <td>389.87</td>\n",
       "      <td>14055.93</td>\n",
       "      <td>81.0</td>\n",
       "    </tr>\n",
       "    <tr>\n",
       "      <td>4</td>\n",
       "      <td>1000</td>\n",
       "      <td>52.0</td>\n",
       "      <td>NaN</td>\n",
       "      <td>Краснодар</td>\n",
       "      <td>Рафаил</td>\n",
       "      <td>Верещагин</td>\n",
       "      <td>2018-05-25</td>\n",
       "      <td>ultra</td>\n",
       "      <td>9.0</td>\n",
       "      <td>440.14</td>\n",
       "      <td>14568.91</td>\n",
       "      <td>57.0</td>\n",
       "    </tr>\n",
       "    <tr>\n",
       "      <td>...</td>\n",
       "      <td>...</td>\n",
       "      <td>...</td>\n",
       "      <td>...</td>\n",
       "      <td>...</td>\n",
       "      <td>...</td>\n",
       "      <td>...</td>\n",
       "      <td>...</td>\n",
       "      <td>...</td>\n",
       "      <td>...</td>\n",
       "      <td>...</td>\n",
       "      <td>...</td>\n",
       "      <td>...</td>\n",
       "    </tr>\n",
       "    <tr>\n",
       "      <td>3217</td>\n",
       "      <td>1489</td>\n",
       "      <td>NaN</td>\n",
       "      <td>NaN</td>\n",
       "      <td>NaN</td>\n",
       "      <td>NaN</td>\n",
       "      <td>NaN</td>\n",
       "      <td>NaN</td>\n",
       "      <td>NaN</td>\n",
       "      <td>8.0</td>\n",
       "      <td>NaN</td>\n",
       "      <td>11050.56</td>\n",
       "      <td>17.0</td>\n",
       "    </tr>\n",
       "    <tr>\n",
       "      <td>3218</td>\n",
       "      <td>1489</td>\n",
       "      <td>NaN</td>\n",
       "      <td>NaN</td>\n",
       "      <td>NaN</td>\n",
       "      <td>NaN</td>\n",
       "      <td>NaN</td>\n",
       "      <td>NaN</td>\n",
       "      <td>NaN</td>\n",
       "      <td>9.0</td>\n",
       "      <td>NaN</td>\n",
       "      <td>17206.30</td>\n",
       "      <td>32.0</td>\n",
       "    </tr>\n",
       "    <tr>\n",
       "      <td>3219</td>\n",
       "      <td>1489</td>\n",
       "      <td>NaN</td>\n",
       "      <td>NaN</td>\n",
       "      <td>NaN</td>\n",
       "      <td>NaN</td>\n",
       "      <td>NaN</td>\n",
       "      <td>NaN</td>\n",
       "      <td>NaN</td>\n",
       "      <td>10.0</td>\n",
       "      <td>NaN</td>\n",
       "      <td>19559.44</td>\n",
       "      <td>21.0</td>\n",
       "    </tr>\n",
       "    <tr>\n",
       "      <td>3220</td>\n",
       "      <td>1489</td>\n",
       "      <td>NaN</td>\n",
       "      <td>NaN</td>\n",
       "      <td>NaN</td>\n",
       "      <td>NaN</td>\n",
       "      <td>NaN</td>\n",
       "      <td>NaN</td>\n",
       "      <td>NaN</td>\n",
       "      <td>11.0</td>\n",
       "      <td>NaN</td>\n",
       "      <td>17491.56</td>\n",
       "      <td>20.0</td>\n",
       "    </tr>\n",
       "    <tr>\n",
       "      <td>3221</td>\n",
       "      <td>1489</td>\n",
       "      <td>NaN</td>\n",
       "      <td>NaN</td>\n",
       "      <td>NaN</td>\n",
       "      <td>NaN</td>\n",
       "      <td>NaN</td>\n",
       "      <td>NaN</td>\n",
       "      <td>NaN</td>\n",
       "      <td>12.0</td>\n",
       "      <td>NaN</td>\n",
       "      <td>17322.51</td>\n",
       "      <td>35.0</td>\n",
       "    </tr>\n",
       "  </tbody>\n",
       "</table>\n",
       "<p>3222 rows × 12 columns</p>\n",
       "</div>"
      ],
      "text/plain": [
       "      user_id   age churn_date       city first_name  last_name    reg_date  \\\n",
       "0        1000  52.0        NaN  Краснодар     Рафаил  Верещагин  2018-05-25   \n",
       "1        1000  52.0        NaN  Краснодар     Рафаил  Верещагин  2018-05-25   \n",
       "2        1000  52.0        NaN  Краснодар     Рафаил  Верещагин  2018-05-25   \n",
       "3        1000  52.0        NaN  Краснодар     Рафаил  Верещагин  2018-05-25   \n",
       "4        1000  52.0        NaN  Краснодар     Рафаил  Верещагин  2018-05-25   \n",
       "...       ...   ...        ...        ...        ...        ...         ...   \n",
       "3217     1489   NaN        NaN        NaN        NaN        NaN         NaN   \n",
       "3218     1489   NaN        NaN        NaN        NaN        NaN         NaN   \n",
       "3219     1489   NaN        NaN        NaN        NaN        NaN         NaN   \n",
       "3220     1489   NaN        NaN        NaN        NaN        NaN         NaN   \n",
       "3221     1489   NaN        NaN        NaN        NaN        NaN         NaN   \n",
       "\n",
       "     tariff  month  calls_duration  internet_mb_used  messages  \n",
       "0     ultra    5.0          150.06           2253.49      22.0  \n",
       "1     ultra    6.0          158.90          23233.77      60.0  \n",
       "2     ultra    7.0          318.80          14003.64      75.0  \n",
       "3     ultra    8.0          389.87          14055.93      81.0  \n",
       "4     ultra    9.0          440.14          14568.91      57.0  \n",
       "...     ...    ...             ...               ...       ...  \n",
       "3217    NaN    8.0             NaN          11050.56      17.0  \n",
       "3218    NaN    9.0             NaN          17206.30      32.0  \n",
       "3219    NaN   10.0             NaN          19559.44      21.0  \n",
       "3220    NaN   11.0             NaN          17491.56      20.0  \n",
       "3221    NaN   12.0             NaN          17322.51      35.0  \n",
       "\n",
       "[3222 rows x 12 columns]"
      ]
     },
     "execution_count": 14,
     "metadata": {},
     "output_type": "execute_result"
    }
   ],
   "source": [
    "df_users_total"
   ]
  },
  {
   "cell_type": "code",
   "execution_count": 15,
   "metadata": {},
   "outputs": [
    {
     "name": "stdout",
     "output_type": "stream",
     "text": [
      "<class 'pandas.core.frame.DataFrame'>\n",
      "Int64Index: 3222 entries, 0 to 3221\n",
      "Data columns (total 12 columns):\n",
      "user_id             3222 non-null int64\n",
      "age                 3182 non-null float64\n",
      "churn_date          189 non-null object\n",
      "city                3182 non-null object\n",
      "first_name          3182 non-null object\n",
      "last_name           3182 non-null object\n",
      "reg_date            3182 non-null object\n",
      "tariff              3182 non-null object\n",
      "month               3214 non-null float64\n",
      "calls_duration      3174 non-null float64\n",
      "internet_mb_used    3203 non-null float64\n",
      "messages            2717 non-null float64\n",
      "dtypes: float64(5), int64(1), object(6)\n",
      "memory usage: 327.2+ KB\n"
     ]
    }
   ],
   "source": [
    "df_users_total.info()"
   ]
  },
  {
   "cell_type": "markdown",
   "metadata": {},
   "source": [
    "Как видим часть данных в столбцах пропущена. Пропуски в диапазоне 'user_id' : 'tariff'. Их можно восстановить обратившись к исходной таблице df_users."
   ]
  },
  {
   "cell_type": "code",
   "execution_count": 16,
   "metadata": {},
   "outputs": [],
   "source": [
    "for i in df_users_total[df_users_total['tariff'].isna()==True]['user_id'].unique():\n",
    "    df_new=(df_users_total[df_users_total['tariff'].isna()==True].\n",
    "            loc[ df_users_total['user_id']==i].\n",
    "            fillna(value=df_users.set_index('user_id').loc[i]))\n",
    "    df_users_total.update(df_new)"
   ]
  },
  {
   "cell_type": "code",
   "execution_count": 17,
   "metadata": {},
   "outputs": [
    {
     "name": "stdout",
     "output_type": "stream",
     "text": [
      "<class 'pandas.core.frame.DataFrame'>\n",
      "Int64Index: 3222 entries, 0 to 3221\n",
      "Data columns (total 12 columns):\n",
      "user_id             3222 non-null float64\n",
      "age                 3222 non-null float64\n",
      "churn_date          189 non-null object\n",
      "city                3222 non-null object\n",
      "first_name          3222 non-null object\n",
      "last_name           3222 non-null object\n",
      "reg_date            3222 non-null object\n",
      "tariff              3222 non-null object\n",
      "month               3214 non-null float64\n",
      "calls_duration      3174 non-null float64\n",
      "internet_mb_used    3203 non-null float64\n",
      "messages            2717 non-null float64\n",
      "dtypes: float64(6), object(6)\n",
      "memory usage: 487.2+ KB\n"
     ]
    }
   ],
   "source": [
    "df_users_total.info()"
   ]
  },
  {
   "cell_type": "markdown",
   "metadata": {},
   "source": [
    "Мы заменили данные, где это было возможно."
   ]
  },
  {
   "cell_type": "code",
   "execution_count": 18,
   "metadata": {},
   "outputs": [
    {
     "data": {
      "text/html": [
       "<div>\n",
       "<style scoped>\n",
       "    .dataframe tbody tr th:only-of-type {\n",
       "        vertical-align: middle;\n",
       "    }\n",
       "\n",
       "    .dataframe tbody tr th {\n",
       "        vertical-align: top;\n",
       "    }\n",
       "\n",
       "    .dataframe thead th {\n",
       "        text-align: right;\n",
       "    }\n",
       "</style>\n",
       "<table border=\"1\" class=\"dataframe\">\n",
       "  <thead>\n",
       "    <tr style=\"text-align: right;\">\n",
       "      <th></th>\n",
       "      <th>user_id</th>\n",
       "      <th>age</th>\n",
       "      <th>month</th>\n",
       "      <th>calls_duration</th>\n",
       "      <th>internet_mb_used</th>\n",
       "      <th>messages</th>\n",
       "    </tr>\n",
       "  </thead>\n",
       "  <tbody>\n",
       "    <tr>\n",
       "      <td>count</td>\n",
       "      <td>3222.000000</td>\n",
       "      <td>3222.000000</td>\n",
       "      <td>3214.000000</td>\n",
       "      <td>3174.000000</td>\n",
       "      <td>3203.000000</td>\n",
       "      <td>2717.000000</td>\n",
       "    </tr>\n",
       "    <tr>\n",
       "      <td>mean</td>\n",
       "      <td>1251.653631</td>\n",
       "      <td>46.638734</td>\n",
       "      <td>8.317362</td>\n",
       "      <td>431.250800</td>\n",
       "      <td>17266.708626</td>\n",
       "      <td>45.283769</td>\n",
       "    </tr>\n",
       "    <tr>\n",
       "      <td>std</td>\n",
       "      <td>144.681431</td>\n",
       "      <td>16.582249</td>\n",
       "      <td>2.905413</td>\n",
       "      <td>224.914227</td>\n",
       "      <td>7516.356902</td>\n",
       "      <td>35.051363</td>\n",
       "    </tr>\n",
       "    <tr>\n",
       "      <td>min</td>\n",
       "      <td>1000.000000</td>\n",
       "      <td>18.000000</td>\n",
       "      <td>1.000000</td>\n",
       "      <td>0.000000</td>\n",
       "      <td>0.000000</td>\n",
       "      <td>1.000000</td>\n",
       "    </tr>\n",
       "    <tr>\n",
       "      <td>25%</td>\n",
       "      <td>1125.000000</td>\n",
       "      <td>32.000000</td>\n",
       "      <td>6.000000</td>\n",
       "      <td>273.835000</td>\n",
       "      <td>12526.905000</td>\n",
       "      <td>19.000000</td>\n",
       "    </tr>\n",
       "    <tr>\n",
       "      <td>50%</td>\n",
       "      <td>1253.000000</td>\n",
       "      <td>46.000000</td>\n",
       "      <td>9.000000</td>\n",
       "      <td>420.715000</td>\n",
       "      <td>16963.110000</td>\n",
       "      <td>38.000000</td>\n",
       "    </tr>\n",
       "    <tr>\n",
       "      <td>75%</td>\n",
       "      <td>1378.750000</td>\n",
       "      <td>62.000000</td>\n",
       "      <td>11.000000</td>\n",
       "      <td>558.602500</td>\n",
       "      <td>21432.175000</td>\n",
       "      <td>63.000000</td>\n",
       "    </tr>\n",
       "    <tr>\n",
       "      <td>max</td>\n",
       "      <td>1499.000000</td>\n",
       "      <td>75.000000</td>\n",
       "      <td>12.000000</td>\n",
       "      <td>1578.060000</td>\n",
       "      <td>49745.690000</td>\n",
       "      <td>224.000000</td>\n",
       "    </tr>\n",
       "  </tbody>\n",
       "</table>\n",
       "</div>"
      ],
      "text/plain": [
       "           user_id          age        month  calls_duration  \\\n",
       "count  3222.000000  3222.000000  3214.000000     3174.000000   \n",
       "mean   1251.653631    46.638734     8.317362      431.250800   \n",
       "std     144.681431    16.582249     2.905413      224.914227   \n",
       "min    1000.000000    18.000000     1.000000        0.000000   \n",
       "25%    1125.000000    32.000000     6.000000      273.835000   \n",
       "50%    1253.000000    46.000000     9.000000      420.715000   \n",
       "75%    1378.750000    62.000000    11.000000      558.602500   \n",
       "max    1499.000000    75.000000    12.000000     1578.060000   \n",
       "\n",
       "       internet_mb_used     messages  \n",
       "count       3203.000000  2717.000000  \n",
       "mean       17266.708626    45.283769  \n",
       "std         7516.356902    35.051363  \n",
       "min            0.000000     1.000000  \n",
       "25%        12526.905000    19.000000  \n",
       "50%        16963.110000    38.000000  \n",
       "75%        21432.175000    63.000000  \n",
       "max        49745.690000   224.000000  "
      ]
     },
     "execution_count": 18,
     "metadata": {},
     "output_type": "execute_result"
    }
   ],
   "source": [
    "df_users_total.describe()"
   ]
  },
  {
   "cell_type": "markdown",
   "metadata": {},
   "source": [
    "###### Приведем данные к нужному виду"
   ]
  },
  {
   "cell_type": "markdown",
   "metadata": {},
   "source": [
    "Как видим, в данных звонков и интернета есть значения раные 0, а так же числа имеют дробную часть. Т.к. оператор всегда округляет значения в большую сторону, то причина скорее всего в том, что данные небыли округлены. Без этого мы не сможем правильно рассчитать экономические показатели."
   ]
  },
  {
   "cell_type": "code",
   "execution_count": 19,
   "metadata": {},
   "outputs": [],
   "source": [
    "df_users_total.update(df_users_total.loc[:,('calls_duration','internet_mb_used')].replace(0.0,1))"
   ]
  },
  {
   "cell_type": "code",
   "execution_count": 20,
   "metadata": {},
   "outputs": [],
   "source": [
    "df_users_total.update(df_users_total.loc[:,('calls_duration','internet_mb_used')].apply(np.ceil))"
   ]
  },
  {
   "cell_type": "code",
   "execution_count": 21,
   "metadata": {},
   "outputs": [
    {
     "data": {
      "text/html": [
       "<div>\n",
       "<style scoped>\n",
       "    .dataframe tbody tr th:only-of-type {\n",
       "        vertical-align: middle;\n",
       "    }\n",
       "\n",
       "    .dataframe tbody tr th {\n",
       "        vertical-align: top;\n",
       "    }\n",
       "\n",
       "    .dataframe thead th {\n",
       "        text-align: right;\n",
       "    }\n",
       "</style>\n",
       "<table border=\"1\" class=\"dataframe\">\n",
       "  <thead>\n",
       "    <tr style=\"text-align: right;\">\n",
       "      <th></th>\n",
       "      <th>user_id</th>\n",
       "      <th>age</th>\n",
       "      <th>month</th>\n",
       "      <th>calls_duration</th>\n",
       "      <th>internet_mb_used</th>\n",
       "      <th>messages</th>\n",
       "    </tr>\n",
       "  </thead>\n",
       "  <tbody>\n",
       "    <tr>\n",
       "      <td>count</td>\n",
       "      <td>3222.000000</td>\n",
       "      <td>3222.000000</td>\n",
       "      <td>3214.000000</td>\n",
       "      <td>3174.000000</td>\n",
       "      <td>3203.000000</td>\n",
       "      <td>2717.000000</td>\n",
       "    </tr>\n",
       "    <tr>\n",
       "      <td>mean</td>\n",
       "      <td>1251.653631</td>\n",
       "      <td>46.638734</td>\n",
       "      <td>8.317362</td>\n",
       "      <td>431.749212</td>\n",
       "      <td>17267.202623</td>\n",
       "      <td>45.283769</td>\n",
       "    </tr>\n",
       "    <tr>\n",
       "      <td>std</td>\n",
       "      <td>144.681431</td>\n",
       "      <td>16.582249</td>\n",
       "      <td>2.905413</td>\n",
       "      <td>224.917787</td>\n",
       "      <td>7516.367349</td>\n",
       "      <td>35.051363</td>\n",
       "    </tr>\n",
       "    <tr>\n",
       "      <td>min</td>\n",
       "      <td>1000.000000</td>\n",
       "      <td>18.000000</td>\n",
       "      <td>1.000000</td>\n",
       "      <td>1.000000</td>\n",
       "      <td>1.000000</td>\n",
       "      <td>1.000000</td>\n",
       "    </tr>\n",
       "    <tr>\n",
       "      <td>25%</td>\n",
       "      <td>1125.000000</td>\n",
       "      <td>32.000000</td>\n",
       "      <td>6.000000</td>\n",
       "      <td>274.000000</td>\n",
       "      <td>12527.500000</td>\n",
       "      <td>19.000000</td>\n",
       "    </tr>\n",
       "    <tr>\n",
       "      <td>50%</td>\n",
       "      <td>1253.000000</td>\n",
       "      <td>46.000000</td>\n",
       "      <td>9.000000</td>\n",
       "      <td>421.000000</td>\n",
       "      <td>16964.000000</td>\n",
       "      <td>38.000000</td>\n",
       "    </tr>\n",
       "    <tr>\n",
       "      <td>75%</td>\n",
       "      <td>1378.750000</td>\n",
       "      <td>62.000000</td>\n",
       "      <td>11.000000</td>\n",
       "      <td>559.000000</td>\n",
       "      <td>21432.500000</td>\n",
       "      <td>63.000000</td>\n",
       "    </tr>\n",
       "    <tr>\n",
       "      <td>max</td>\n",
       "      <td>1499.000000</td>\n",
       "      <td>75.000000</td>\n",
       "      <td>12.000000</td>\n",
       "      <td>1579.000000</td>\n",
       "      <td>49746.000000</td>\n",
       "      <td>224.000000</td>\n",
       "    </tr>\n",
       "  </tbody>\n",
       "</table>\n",
       "</div>"
      ],
      "text/plain": [
       "           user_id          age        month  calls_duration  \\\n",
       "count  3222.000000  3222.000000  3214.000000     3174.000000   \n",
       "mean   1251.653631    46.638734     8.317362      431.749212   \n",
       "std     144.681431    16.582249     2.905413      224.917787   \n",
       "min    1000.000000    18.000000     1.000000        1.000000   \n",
       "25%    1125.000000    32.000000     6.000000      274.000000   \n",
       "50%    1253.000000    46.000000     9.000000      421.000000   \n",
       "75%    1378.750000    62.000000    11.000000      559.000000   \n",
       "max    1499.000000    75.000000    12.000000     1579.000000   \n",
       "\n",
       "       internet_mb_used     messages  \n",
       "count       3203.000000  2717.000000  \n",
       "mean       17267.202623    45.283769  \n",
       "std         7516.367349    35.051363  \n",
       "min            1.000000     1.000000  \n",
       "25%        12527.500000    19.000000  \n",
       "50%        16964.000000    38.000000  \n",
       "75%        21432.500000    63.000000  \n",
       "max        49746.000000   224.000000  "
      ]
     },
     "execution_count": 21,
     "metadata": {},
     "output_type": "execute_result"
    }
   ],
   "source": [
    "df_users_total.describe()"
   ]
  },
  {
   "cell_type": "markdown",
   "metadata": {},
   "source": [
    "###### Приведем данные к нужным типам, где это возможно"
   ]
  },
  {
   "cell_type": "code",
   "execution_count": 22,
   "metadata": {},
   "outputs": [],
   "source": [
    "df_users_total['churn_date']=pd.to_datetime(df_users_total['churn_date'], format='%Y-%m-%d' )"
   ]
  },
  {
   "cell_type": "code",
   "execution_count": 23,
   "metadata": {},
   "outputs": [],
   "source": [
    "df_users_total['reg_date']=pd.to_datetime(df_users_total['reg_date'], format='%Y-%m-%d' )"
   ]
  },
  {
   "cell_type": "code",
   "execution_count": 24,
   "metadata": {},
   "outputs": [],
   "source": [
    "df_users_total['age']=df_users_total['age'].astype(int)"
   ]
  },
  {
   "cell_type": "code",
   "execution_count": 25,
   "metadata": {},
   "outputs": [],
   "source": [
    "df_users_total['user_id']=df_users_total['user_id'].astype(str)"
   ]
  },
  {
   "cell_type": "code",
   "execution_count": 26,
   "metadata": {},
   "outputs": [
    {
     "name": "stdout",
     "output_type": "stream",
     "text": [
      "<class 'pandas.core.frame.DataFrame'>\n",
      "Int64Index: 3222 entries, 0 to 3221\n",
      "Data columns (total 12 columns):\n",
      "user_id             3222 non-null object\n",
      "age                 3222 non-null int64\n",
      "churn_date          189 non-null datetime64[ns]\n",
      "city                3222 non-null object\n",
      "first_name          3222 non-null object\n",
      "last_name           3222 non-null object\n",
      "reg_date            3222 non-null datetime64[ns]\n",
      "tariff              3222 non-null object\n",
      "month               3214 non-null float64\n",
      "calls_duration      3174 non-null float64\n",
      "internet_mb_used    3203 non-null float64\n",
      "messages            2717 non-null float64\n",
      "dtypes: datetime64[ns](2), float64(4), int64(1), object(5)\n",
      "memory usage: 487.2+ KB\n"
     ]
    }
   ],
   "source": [
    "df_users_total.info()"
   ]
  },
  {
   "cell_type": "markdown",
   "metadata": {},
   "source": [
    "###### Посчитаем для каждого пользователя доход для оператора по месяцам"
   ]
  },
  {
   "cell_type": "code",
   "execution_count": 27,
   "metadata": {},
   "outputs": [
    {
     "data": {
      "text/html": [
       "<div>\n",
       "<style scoped>\n",
       "    .dataframe tbody tr th:only-of-type {\n",
       "        vertical-align: middle;\n",
       "    }\n",
       "\n",
       "    .dataframe tbody tr th {\n",
       "        vertical-align: top;\n",
       "    }\n",
       "\n",
       "    .dataframe thead th {\n",
       "        text-align: right;\n",
       "    }\n",
       "</style>\n",
       "<table border=\"1\" class=\"dataframe\">\n",
       "  <thead>\n",
       "    <tr style=\"text-align: right;\">\n",
       "      <th></th>\n",
       "      <th>messages_included</th>\n",
       "      <th>mb_per_month_included</th>\n",
       "      <th>minutes_included</th>\n",
       "      <th>rub_monthly_fee</th>\n",
       "      <th>rub_per_gb</th>\n",
       "      <th>rub_per_message</th>\n",
       "      <th>rub_per_minute</th>\n",
       "      <th>tariff_name</th>\n",
       "    </tr>\n",
       "  </thead>\n",
       "  <tbody>\n",
       "    <tr>\n",
       "      <td>0</td>\n",
       "      <td>50</td>\n",
       "      <td>15360</td>\n",
       "      <td>500</td>\n",
       "      <td>550</td>\n",
       "      <td>200</td>\n",
       "      <td>3</td>\n",
       "      <td>3</td>\n",
       "      <td>smart</td>\n",
       "    </tr>\n",
       "    <tr>\n",
       "      <td>1</td>\n",
       "      <td>1000</td>\n",
       "      <td>30720</td>\n",
       "      <td>3000</td>\n",
       "      <td>1950</td>\n",
       "      <td>150</td>\n",
       "      <td>1</td>\n",
       "      <td>1</td>\n",
       "      <td>ultra</td>\n",
       "    </tr>\n",
       "  </tbody>\n",
       "</table>\n",
       "</div>"
      ],
      "text/plain": [
       "   messages_included  mb_per_month_included  minutes_included  \\\n",
       "0                 50                  15360               500   \n",
       "1               1000                  30720              3000   \n",
       "\n",
       "   rub_monthly_fee  rub_per_gb  rub_per_message  rub_per_minute tariff_name  \n",
       "0              550         200                3               3       smart  \n",
       "1             1950         150                1               1       ultra  "
      ]
     },
     "execution_count": 27,
     "metadata": {},
     "output_type": "execute_result"
    }
   ],
   "source": [
    "df_tariffs"
   ]
  },
  {
   "cell_type": "code",
   "execution_count": 28,
   "metadata": {},
   "outputs": [],
   "source": [
    "def revenue(row):\n",
    "    if row['tariff']=='ultra':\n",
    "        total_revenue=1950\n",
    "        call_revenue=(float(row['calls_duration'])-3000)*1\n",
    "        internet_revenue= (float(row['internet_mb_used'])-30720) / 1000 * 150\n",
    "        messages_revenue= (float(row['messages'])-1000)*1\n",
    "        list=[call_revenue,internet_revenue,messages_revenue]\n",
    "        for i in list:\n",
    "            if i >0:\n",
    "                total_revenue+=i\n",
    "        return total_revenue\n",
    "    elif row['tariff']=='smart':\n",
    "        total_revenue=550\n",
    "        call_revenue=(float(row['calls_duration'])-500)*3\n",
    "        internet_revenue= (float(row['internet_mb_used'])-15360)/ 1000 * 200\n",
    "        messages_revenue= (float(row['messages'])-50)*3\n",
    "        list=[call_revenue,internet_revenue,messages_revenue]\n",
    "        for i in list:\n",
    "            if i >0:\n",
    "                total_revenue+=i\n",
    "        return total_revenue"
   ]
  },
  {
   "cell_type": "code",
   "execution_count": 29,
   "metadata": {},
   "outputs": [],
   "source": [
    "df_users_total['total_revenue']=df_users_total.apply(revenue,axis=1)"
   ]
  },
  {
   "cell_type": "code",
   "execution_count": 30,
   "metadata": {},
   "outputs": [
    {
     "data": {
      "text/html": [
       "<div>\n",
       "<style scoped>\n",
       "    .dataframe tbody tr th:only-of-type {\n",
       "        vertical-align: middle;\n",
       "    }\n",
       "\n",
       "    .dataframe tbody tr th {\n",
       "        vertical-align: top;\n",
       "    }\n",
       "\n",
       "    .dataframe thead th {\n",
       "        text-align: right;\n",
       "    }\n",
       "</style>\n",
       "<table border=\"1\" class=\"dataframe\">\n",
       "  <thead>\n",
       "    <tr style=\"text-align: right;\">\n",
       "      <th></th>\n",
       "      <th>user_id</th>\n",
       "      <th>age</th>\n",
       "      <th>churn_date</th>\n",
       "      <th>city</th>\n",
       "      <th>first_name</th>\n",
       "      <th>last_name</th>\n",
       "      <th>reg_date</th>\n",
       "      <th>tariff</th>\n",
       "      <th>month</th>\n",
       "      <th>calls_duration</th>\n",
       "      <th>internet_mb_used</th>\n",
       "      <th>messages</th>\n",
       "      <th>total_revenue</th>\n",
       "    </tr>\n",
       "  </thead>\n",
       "  <tbody>\n",
       "    <tr>\n",
       "      <td>0</td>\n",
       "      <td>1000.0</td>\n",
       "      <td>52</td>\n",
       "      <td>NaT</td>\n",
       "      <td>Краснодар</td>\n",
       "      <td>Рафаил</td>\n",
       "      <td>Верещагин</td>\n",
       "      <td>2018-05-25</td>\n",
       "      <td>ultra</td>\n",
       "      <td>5.0</td>\n",
       "      <td>151.0</td>\n",
       "      <td>2254.0</td>\n",
       "      <td>22.0</td>\n",
       "      <td>1950.0</td>\n",
       "    </tr>\n",
       "    <tr>\n",
       "      <td>1</td>\n",
       "      <td>1000.0</td>\n",
       "      <td>52</td>\n",
       "      <td>NaT</td>\n",
       "      <td>Краснодар</td>\n",
       "      <td>Рафаил</td>\n",
       "      <td>Верещагин</td>\n",
       "      <td>2018-05-25</td>\n",
       "      <td>ultra</td>\n",
       "      <td>6.0</td>\n",
       "      <td>159.0</td>\n",
       "      <td>23234.0</td>\n",
       "      <td>60.0</td>\n",
       "      <td>1950.0</td>\n",
       "    </tr>\n",
       "    <tr>\n",
       "      <td>2</td>\n",
       "      <td>1000.0</td>\n",
       "      <td>52</td>\n",
       "      <td>NaT</td>\n",
       "      <td>Краснодар</td>\n",
       "      <td>Рафаил</td>\n",
       "      <td>Верещагин</td>\n",
       "      <td>2018-05-25</td>\n",
       "      <td>ultra</td>\n",
       "      <td>7.0</td>\n",
       "      <td>319.0</td>\n",
       "      <td>14004.0</td>\n",
       "      <td>75.0</td>\n",
       "      <td>1950.0</td>\n",
       "    </tr>\n",
       "    <tr>\n",
       "      <td>3</td>\n",
       "      <td>1000.0</td>\n",
       "      <td>52</td>\n",
       "      <td>NaT</td>\n",
       "      <td>Краснодар</td>\n",
       "      <td>Рафаил</td>\n",
       "      <td>Верещагин</td>\n",
       "      <td>2018-05-25</td>\n",
       "      <td>ultra</td>\n",
       "      <td>8.0</td>\n",
       "      <td>390.0</td>\n",
       "      <td>14056.0</td>\n",
       "      <td>81.0</td>\n",
       "      <td>1950.0</td>\n",
       "    </tr>\n",
       "    <tr>\n",
       "      <td>4</td>\n",
       "      <td>1000.0</td>\n",
       "      <td>52</td>\n",
       "      <td>NaT</td>\n",
       "      <td>Краснодар</td>\n",
       "      <td>Рафаил</td>\n",
       "      <td>Верещагин</td>\n",
       "      <td>2018-05-25</td>\n",
       "      <td>ultra</td>\n",
       "      <td>9.0</td>\n",
       "      <td>441.0</td>\n",
       "      <td>14569.0</td>\n",
       "      <td>57.0</td>\n",
       "      <td>1950.0</td>\n",
       "    </tr>\n",
       "    <tr>\n",
       "      <td>5</td>\n",
       "      <td>1000.0</td>\n",
       "      <td>52</td>\n",
       "      <td>NaT</td>\n",
       "      <td>Краснодар</td>\n",
       "      <td>Рафаил</td>\n",
       "      <td>Верещагин</td>\n",
       "      <td>2018-05-25</td>\n",
       "      <td>ultra</td>\n",
       "      <td>10.0</td>\n",
       "      <td>329.0</td>\n",
       "      <td>14703.0</td>\n",
       "      <td>73.0</td>\n",
       "      <td>1950.0</td>\n",
       "    </tr>\n",
       "    <tr>\n",
       "      <td>6</td>\n",
       "      <td>1000.0</td>\n",
       "      <td>52</td>\n",
       "      <td>NaT</td>\n",
       "      <td>Краснодар</td>\n",
       "      <td>Рафаил</td>\n",
       "      <td>Верещагин</td>\n",
       "      <td>2018-05-25</td>\n",
       "      <td>ultra</td>\n",
       "      <td>11.0</td>\n",
       "      <td>320.0</td>\n",
       "      <td>14757.0</td>\n",
       "      <td>58.0</td>\n",
       "      <td>1950.0</td>\n",
       "    </tr>\n",
       "    <tr>\n",
       "      <td>7</td>\n",
       "      <td>1000.0</td>\n",
       "      <td>52</td>\n",
       "      <td>NaT</td>\n",
       "      <td>Краснодар</td>\n",
       "      <td>Рафаил</td>\n",
       "      <td>Верещагин</td>\n",
       "      <td>2018-05-25</td>\n",
       "      <td>ultra</td>\n",
       "      <td>12.0</td>\n",
       "      <td>313.0</td>\n",
       "      <td>9818.0</td>\n",
       "      <td>70.0</td>\n",
       "      <td>1950.0</td>\n",
       "    </tr>\n",
       "    <tr>\n",
       "      <td>8</td>\n",
       "      <td>1001.0</td>\n",
       "      <td>41</td>\n",
       "      <td>NaT</td>\n",
       "      <td>Москва</td>\n",
       "      <td>Иван</td>\n",
       "      <td>Ежов</td>\n",
       "      <td>2018-11-01</td>\n",
       "      <td>smart</td>\n",
       "      <td>11.0</td>\n",
       "      <td>409.0</td>\n",
       "      <td>18430.0</td>\n",
       "      <td>NaN</td>\n",
       "      <td>1164.0</td>\n",
       "    </tr>\n",
       "    <tr>\n",
       "      <td>9</td>\n",
       "      <td>1001.0</td>\n",
       "      <td>41</td>\n",
       "      <td>NaT</td>\n",
       "      <td>Москва</td>\n",
       "      <td>Иван</td>\n",
       "      <td>Ежов</td>\n",
       "      <td>2018-11-01</td>\n",
       "      <td>smart</td>\n",
       "      <td>12.0</td>\n",
       "      <td>392.0</td>\n",
       "      <td>14037.0</td>\n",
       "      <td>NaN</td>\n",
       "      <td>550.0</td>\n",
       "    </tr>\n",
       "    <tr>\n",
       "      <td>10</td>\n",
       "      <td>1002.0</td>\n",
       "      <td>59</td>\n",
       "      <td>NaT</td>\n",
       "      <td>Стерлитамак</td>\n",
       "      <td>Евгений</td>\n",
       "      <td>Абрамович</td>\n",
       "      <td>2018-06-17</td>\n",
       "      <td>smart</td>\n",
       "      <td>6.0</td>\n",
       "      <td>111.0</td>\n",
       "      <td>10857.0</td>\n",
       "      <td>4.0</td>\n",
       "      <td>550.0</td>\n",
       "    </tr>\n",
       "    <tr>\n",
       "      <td>11</td>\n",
       "      <td>1002.0</td>\n",
       "      <td>59</td>\n",
       "      <td>NaT</td>\n",
       "      <td>Стерлитамак</td>\n",
       "      <td>Евгений</td>\n",
       "      <td>Абрамович</td>\n",
       "      <td>2018-06-17</td>\n",
       "      <td>smart</td>\n",
       "      <td>7.0</td>\n",
       "      <td>205.0</td>\n",
       "      <td>17581.0</td>\n",
       "      <td>11.0</td>\n",
       "      <td>994.2</td>\n",
       "    </tr>\n",
       "    <tr>\n",
       "      <td>12</td>\n",
       "      <td>1002.0</td>\n",
       "      <td>59</td>\n",
       "      <td>NaT</td>\n",
       "      <td>Стерлитамак</td>\n",
       "      <td>Евгений</td>\n",
       "      <td>Абрамович</td>\n",
       "      <td>2018-06-17</td>\n",
       "      <td>smart</td>\n",
       "      <td>8.0</td>\n",
       "      <td>270.0</td>\n",
       "      <td>20320.0</td>\n",
       "      <td>13.0</td>\n",
       "      <td>1542.0</td>\n",
       "    </tr>\n",
       "    <tr>\n",
       "      <td>13</td>\n",
       "      <td>1002.0</td>\n",
       "      <td>59</td>\n",
       "      <td>NaT</td>\n",
       "      <td>Стерлитамак</td>\n",
       "      <td>Евгений</td>\n",
       "      <td>Абрамович</td>\n",
       "      <td>2018-06-17</td>\n",
       "      <td>smart</td>\n",
       "      <td>9.0</td>\n",
       "      <td>196.0</td>\n",
       "      <td>16692.0</td>\n",
       "      <td>4.0</td>\n",
       "      <td>816.4</td>\n",
       "    </tr>\n",
       "    <tr>\n",
       "      <td>14</td>\n",
       "      <td>1002.0</td>\n",
       "      <td>59</td>\n",
       "      <td>NaT</td>\n",
       "      <td>Стерлитамак</td>\n",
       "      <td>Евгений</td>\n",
       "      <td>Абрамович</td>\n",
       "      <td>2018-06-17</td>\n",
       "      <td>smart</td>\n",
       "      <td>10.0</td>\n",
       "      <td>200.0</td>\n",
       "      <td>13889.0</td>\n",
       "      <td>10.0</td>\n",
       "      <td>550.0</td>\n",
       "    </tr>\n",
       "    <tr>\n",
       "      <td>15</td>\n",
       "      <td>1002.0</td>\n",
       "      <td>59</td>\n",
       "      <td>NaT</td>\n",
       "      <td>Стерлитамак</td>\n",
       "      <td>Евгений</td>\n",
       "      <td>Абрамович</td>\n",
       "      <td>2018-06-17</td>\n",
       "      <td>smart</td>\n",
       "      <td>11.0</td>\n",
       "      <td>229.0</td>\n",
       "      <td>18588.0</td>\n",
       "      <td>16.0</td>\n",
       "      <td>1195.6</td>\n",
       "    </tr>\n",
       "    <tr>\n",
       "      <td>16</td>\n",
       "      <td>1002.0</td>\n",
       "      <td>59</td>\n",
       "      <td>NaT</td>\n",
       "      <td>Стерлитамак</td>\n",
       "      <td>Евгений</td>\n",
       "      <td>Абрамович</td>\n",
       "      <td>2018-06-17</td>\n",
       "      <td>smart</td>\n",
       "      <td>12.0</td>\n",
       "      <td>223.0</td>\n",
       "      <td>18114.0</td>\n",
       "      <td>12.0</td>\n",
       "      <td>1100.8</td>\n",
       "    </tr>\n",
       "    <tr>\n",
       "      <td>17</td>\n",
       "      <td>1003.0</td>\n",
       "      <td>23</td>\n",
       "      <td>NaT</td>\n",
       "      <td>Москва</td>\n",
       "      <td>Белла</td>\n",
       "      <td>Белякова</td>\n",
       "      <td>2018-08-17</td>\n",
       "      <td>ultra</td>\n",
       "      <td>8.0</td>\n",
       "      <td>356.0</td>\n",
       "      <td>8566.0</td>\n",
       "      <td>37.0</td>\n",
       "      <td>1950.0</td>\n",
       "    </tr>\n",
       "    <tr>\n",
       "      <td>18</td>\n",
       "      <td>1003.0</td>\n",
       "      <td>23</td>\n",
       "      <td>NaT</td>\n",
       "      <td>Москва</td>\n",
       "      <td>Белла</td>\n",
       "      <td>Белякова</td>\n",
       "      <td>2018-08-17</td>\n",
       "      <td>ultra</td>\n",
       "      <td>9.0</td>\n",
       "      <td>905.0</td>\n",
       "      <td>12469.0</td>\n",
       "      <td>91.0</td>\n",
       "      <td>1950.0</td>\n",
       "    </tr>\n",
       "    <tr>\n",
       "      <td>19</td>\n",
       "      <td>1003.0</td>\n",
       "      <td>23</td>\n",
       "      <td>NaT</td>\n",
       "      <td>Москва</td>\n",
       "      <td>Белла</td>\n",
       "      <td>Белякова</td>\n",
       "      <td>2018-08-17</td>\n",
       "      <td>ultra</td>\n",
       "      <td>10.0</td>\n",
       "      <td>810.0</td>\n",
       "      <td>14769.0</td>\n",
       "      <td>83.0</td>\n",
       "      <td>1950.0</td>\n",
       "    </tr>\n",
       "  </tbody>\n",
       "</table>\n",
       "</div>"
      ],
      "text/plain": [
       "   user_id  age churn_date         city first_name  last_name   reg_date  \\\n",
       "0   1000.0   52        NaT    Краснодар     Рафаил  Верещагин 2018-05-25   \n",
       "1   1000.0   52        NaT    Краснодар     Рафаил  Верещагин 2018-05-25   \n",
       "2   1000.0   52        NaT    Краснодар     Рафаил  Верещагин 2018-05-25   \n",
       "3   1000.0   52        NaT    Краснодар     Рафаил  Верещагин 2018-05-25   \n",
       "4   1000.0   52        NaT    Краснодар     Рафаил  Верещагин 2018-05-25   \n",
       "5   1000.0   52        NaT    Краснодар     Рафаил  Верещагин 2018-05-25   \n",
       "6   1000.0   52        NaT    Краснодар     Рафаил  Верещагин 2018-05-25   \n",
       "7   1000.0   52        NaT    Краснодар     Рафаил  Верещагин 2018-05-25   \n",
       "8   1001.0   41        NaT       Москва       Иван       Ежов 2018-11-01   \n",
       "9   1001.0   41        NaT       Москва       Иван       Ежов 2018-11-01   \n",
       "10  1002.0   59        NaT  Стерлитамак    Евгений  Абрамович 2018-06-17   \n",
       "11  1002.0   59        NaT  Стерлитамак    Евгений  Абрамович 2018-06-17   \n",
       "12  1002.0   59        NaT  Стерлитамак    Евгений  Абрамович 2018-06-17   \n",
       "13  1002.0   59        NaT  Стерлитамак    Евгений  Абрамович 2018-06-17   \n",
       "14  1002.0   59        NaT  Стерлитамак    Евгений  Абрамович 2018-06-17   \n",
       "15  1002.0   59        NaT  Стерлитамак    Евгений  Абрамович 2018-06-17   \n",
       "16  1002.0   59        NaT  Стерлитамак    Евгений  Абрамович 2018-06-17   \n",
       "17  1003.0   23        NaT       Москва      Белла   Белякова 2018-08-17   \n",
       "18  1003.0   23        NaT       Москва      Белла   Белякова 2018-08-17   \n",
       "19  1003.0   23        NaT       Москва      Белла   Белякова 2018-08-17   \n",
       "\n",
       "   tariff  month  calls_duration  internet_mb_used  messages  total_revenue  \n",
       "0   ultra    5.0           151.0            2254.0      22.0         1950.0  \n",
       "1   ultra    6.0           159.0           23234.0      60.0         1950.0  \n",
       "2   ultra    7.0           319.0           14004.0      75.0         1950.0  \n",
       "3   ultra    8.0           390.0           14056.0      81.0         1950.0  \n",
       "4   ultra    9.0           441.0           14569.0      57.0         1950.0  \n",
       "5   ultra   10.0           329.0           14703.0      73.0         1950.0  \n",
       "6   ultra   11.0           320.0           14757.0      58.0         1950.0  \n",
       "7   ultra   12.0           313.0            9818.0      70.0         1950.0  \n",
       "8   smart   11.0           409.0           18430.0       NaN         1164.0  \n",
       "9   smart   12.0           392.0           14037.0       NaN          550.0  \n",
       "10  smart    6.0           111.0           10857.0       4.0          550.0  \n",
       "11  smart    7.0           205.0           17581.0      11.0          994.2  \n",
       "12  smart    8.0           270.0           20320.0      13.0         1542.0  \n",
       "13  smart    9.0           196.0           16692.0       4.0          816.4  \n",
       "14  smart   10.0           200.0           13889.0      10.0          550.0  \n",
       "15  smart   11.0           229.0           18588.0      16.0         1195.6  \n",
       "16  smart   12.0           223.0           18114.0      12.0         1100.8  \n",
       "17  ultra    8.0           356.0            8566.0      37.0         1950.0  \n",
       "18  ultra    9.0           905.0           12469.0      91.0         1950.0  \n",
       "19  ultra   10.0           810.0           14769.0      83.0         1950.0  "
      ]
     },
     "execution_count": 30,
     "metadata": {},
     "output_type": "execute_result"
    }
   ],
   "source": [
    "df_users_total.head(20)"
   ]
  },
  {
   "cell_type": "code",
   "execution_count": 31,
   "metadata": {},
   "outputs": [
    {
     "data": {
      "text/html": [
       "<div>\n",
       "<style scoped>\n",
       "    .dataframe tbody tr th:only-of-type {\n",
       "        vertical-align: middle;\n",
       "    }\n",
       "\n",
       "    .dataframe tbody tr th {\n",
       "        vertical-align: top;\n",
       "    }\n",
       "\n",
       "    .dataframe thead th {\n",
       "        text-align: right;\n",
       "    }\n",
       "</style>\n",
       "<table border=\"1\" class=\"dataframe\">\n",
       "  <thead>\n",
       "    <tr style=\"text-align: right;\">\n",
       "      <th></th>\n",
       "      <th>age</th>\n",
       "      <th>month</th>\n",
       "      <th>calls_duration</th>\n",
       "      <th>internet_mb_used</th>\n",
       "      <th>messages</th>\n",
       "      <th>total_revenue</th>\n",
       "    </tr>\n",
       "  </thead>\n",
       "  <tbody>\n",
       "    <tr>\n",
       "      <td>count</td>\n",
       "      <td>3222.000000</td>\n",
       "      <td>3214.000000</td>\n",
       "      <td>3174.000000</td>\n",
       "      <td>3203.000000</td>\n",
       "      <td>2717.000000</td>\n",
       "      <td>3222.000000</td>\n",
       "    </tr>\n",
       "    <tr>\n",
       "      <td>mean</td>\n",
       "      <td>46.638734</td>\n",
       "      <td>8.317362</td>\n",
       "      <td>431.749212</td>\n",
       "      <td>17267.202623</td>\n",
       "      <td>45.283769</td>\n",
       "      <td>1472.305897</td>\n",
       "    </tr>\n",
       "    <tr>\n",
       "      <td>std</td>\n",
       "      <td>16.582249</td>\n",
       "      <td>2.905413</td>\n",
       "      <td>224.917787</td>\n",
       "      <td>7516.367349</td>\n",
       "      <td>35.051363</td>\n",
       "      <td>787.551249</td>\n",
       "    </tr>\n",
       "    <tr>\n",
       "      <td>min</td>\n",
       "      <td>18.000000</td>\n",
       "      <td>1.000000</td>\n",
       "      <td>1.000000</td>\n",
       "      <td>1.000000</td>\n",
       "      <td>1.000000</td>\n",
       "      <td>550.000000</td>\n",
       "    </tr>\n",
       "    <tr>\n",
       "      <td>25%</td>\n",
       "      <td>32.000000</td>\n",
       "      <td>6.000000</td>\n",
       "      <td>274.000000</td>\n",
       "      <td>12527.500000</td>\n",
       "      <td>19.000000</td>\n",
       "      <td>658.000000</td>\n",
       "    </tr>\n",
       "    <tr>\n",
       "      <td>50%</td>\n",
       "      <td>46.000000</td>\n",
       "      <td>9.000000</td>\n",
       "      <td>421.000000</td>\n",
       "      <td>16964.000000</td>\n",
       "      <td>38.000000</td>\n",
       "      <td>1533.300000</td>\n",
       "    </tr>\n",
       "    <tr>\n",
       "      <td>75%</td>\n",
       "      <td>62.000000</td>\n",
       "      <td>11.000000</td>\n",
       "      <td>559.000000</td>\n",
       "      <td>21432.500000</td>\n",
       "      <td>63.000000</td>\n",
       "      <td>1950.000000</td>\n",
       "    </tr>\n",
       "    <tr>\n",
       "      <td>max</td>\n",
       "      <td>75.000000</td>\n",
       "      <td>12.000000</td>\n",
       "      <td>1579.000000</td>\n",
       "      <td>49746.000000</td>\n",
       "      <td>224.000000</td>\n",
       "      <td>6652.600000</td>\n",
       "    </tr>\n",
       "  </tbody>\n",
       "</table>\n",
       "</div>"
      ],
      "text/plain": [
       "               age        month  calls_duration  internet_mb_used  \\\n",
       "count  3222.000000  3214.000000     3174.000000       3203.000000   \n",
       "mean     46.638734     8.317362      431.749212      17267.202623   \n",
       "std      16.582249     2.905413      224.917787       7516.367349   \n",
       "min      18.000000     1.000000        1.000000          1.000000   \n",
       "25%      32.000000     6.000000      274.000000      12527.500000   \n",
       "50%      46.000000     9.000000      421.000000      16964.000000   \n",
       "75%      62.000000    11.000000      559.000000      21432.500000   \n",
       "max      75.000000    12.000000     1579.000000      49746.000000   \n",
       "\n",
       "          messages  total_revenue  \n",
       "count  2717.000000    3222.000000  \n",
       "mean     45.283769    1472.305897  \n",
       "std      35.051363     787.551249  \n",
       "min       1.000000     550.000000  \n",
       "25%      19.000000     658.000000  \n",
       "50%      38.000000    1533.300000  \n",
       "75%      63.000000    1950.000000  \n",
       "max     224.000000    6652.600000  "
      ]
     },
     "execution_count": 31,
     "metadata": {},
     "output_type": "execute_result"
    }
   ],
   "source": [
    "df_users_total.describe()"
   ]
  },
  {
   "cell_type": "markdown",
   "metadata": {},
   "source": [
    "### Шаг 3. Проанализируйте данные"
   ]
  },
  {
   "cell_type": "markdown",
   "metadata": {},
   "source": [
    "##### Проверим данные на предмет выбросов и формы распределения величин"
   ]
  },
  {
   "cell_type": "code",
   "execution_count": 32,
   "metadata": {},
   "outputs": [
    {
     "data": {
      "text/plain": [
       "<matplotlib.axes._subplots.AxesSubplot at 0x7f4202243910>"
      ]
     },
     "execution_count": 32,
     "metadata": {},
     "output_type": "execute_result"
    },
    {
     "data": {
      "image/png": "[encoded data removed]",
      "text/plain": [
       "<Figure size 432x288 with 1 Axes>"
      ]
     },
     "metadata": {
      "needs_background": "light"
     },
     "output_type": "display_data"
    }
   ],
   "source": [
    "df_users_total['calls_duration'].plot(kind='density')"
   ]
  },
  {
   "cell_type": "code",
   "execution_count": 33,
   "metadata": {},
   "outputs": [
    {
     "data": {
      "text/plain": [
       "<matplotlib.axes._subplots.AxesSubplot at 0x7f4202174550>"
      ]
     },
     "execution_count": 33,
     "metadata": {},
     "output_type": "execute_result"
    },
    {
     "data": {
      "image/png": "[encoded data removed]",
      "text/plain": [
       "<Figure size 432x288 with 1 Axes>"
      ]
     },
     "metadata": {
      "needs_background": "light"
     },
     "output_type": "display_data"
    }
   ],
   "source": [
    "df_users_total['internet_mb_used'].plot(kind='density')"
   ]
  },
  {
   "cell_type": "code",
   "execution_count": 34,
   "metadata": {},
   "outputs": [
    {
     "data": {
      "text/plain": [
       "<matplotlib.axes._subplots.AxesSubplot at 0x7f42021248d0>"
      ]
     },
     "execution_count": 34,
     "metadata": {},
     "output_type": "execute_result"
    },
    {
     "data": {
      "image/png": "[encoded data removed]",
      "text/plain": [
       "<Figure size 432x288 with 1 Axes>"
      ]
     },
     "metadata": {
      "needs_background": "light"
     },
     "output_type": "display_data"
    }
   ],
   "source": [
    "df_users_total['messages'].plot(kind='density')"
   ]
  },
  {
   "cell_type": "markdown",
   "metadata": {},
   "source": [
    "Как видим серьезных выбросов нет, все данные имею распределение близкое к нормальному"
   ]
  },
  {
   "cell_type": "markdown",
   "metadata": {},
   "source": [
    "Произведем рассчет дисперси, среднего и стандартного отклонения для каждого из тарифов"
   ]
  },
  {
   "cell_type": "code",
   "execution_count": 35,
   "metadata": {},
   "outputs": [
    {
     "name": "stdout",
     "output_type": "stream",
     "text": [
      "Тариф: smart\n",
      "calls_duration\n",
      "Дисперися: 32042.961646824417\n",
      "Стандартное отклонение: 179.0054793765387\n",
      "Среднее значение: 395.98920377867745 \n",
      "\n",
      "internet_mb_used\n",
      "Дисперися: 34344574.50652057\n",
      "Стандартное отклонение: 5860.424430578435\n",
      "Среднее значение: 16216.149012567324 \n",
      "\n",
      "messages\n",
      "Дисперися: 717.2208431102272\n",
      "Стандартное отклонение: 26.78097912904282\n",
      "Среднее значение: 38.71644120707596 \n",
      "\n",
      "total_revenue\n",
      "Дисперися: 614227.6879933281\n",
      "Стандартное отклонение: 783.7267942295505\n",
      "Среднее значение: 1210.4395338413267 \n",
      "\n",
      "Тариф: ultra\n",
      "calls_duration\n",
      "Дисперися: 83908.04552626544\n",
      "Стандартное отклонение: 289.6688549469298\n",
      "Среднее значение: 515.3396424815983 \n",
      "\n",
      "internet_mb_used\n",
      "Дисперися: 98763155.47176856\n",
      "Стандартное отклонение: 9937.965358752694\n",
      "Среднее значение: 19668.994871794872 \n",
      "\n",
      "messages\n",
      "Дисперися: 2107.0055235156838\n",
      "Стандартное отклонение: 45.90212983637779\n",
      "Среднее значение: 61.161006289308176 \n",
      "\n",
      "total_revenue\n",
      "Дисперися: 131216.4100552042\n",
      "Стандартное отклонение: 362.2380571602109\n",
      "Среднее значение: 2061.835519677094 \n",
      "\n"
     ]
    }
   ],
   "source": [
    "for k in ['smart','ultra']:\n",
    "    print('Тариф:',k)\n",
    "    for i in ('calls_duration','internet_mb_used','messages','total_revenue'):\n",
    "        print(str(i))\n",
    "        print('Дисперися:',np.var(df_users_total.loc[df_users_total['tariff']==k,i]))\n",
    "        print('Стандартное отклонение:',np.sqrt(np.var(df_users_total.loc[df_users_total['tariff']==k,i])))\n",
    "        print('Среднее значение:',df_users_total.loc[df_users_total['tariff']==k,i].mean(),'\\n')"
   ]
  },
  {
   "cell_type": "markdown",
   "metadata": {},
   "source": [
    "- Несмотря на то что среднее время звонков на тарифе 'smart' меньше на 25% по отношению к тарифу 'ultra', стандартное отклонение у первго меньше чем у второго на 40%.\n",
    "Это может на сказать о том, что на более дорогом тарифе люди не выговаривают и половины минут пакета, в то вермя как на дешевом они стараются укладываться в лимит или выходить за него незначительно.\n",
    "- Схожая ситуация и с интернетом. Разница использования трафика между тарифом 'smart' и 'ultra' составляет около 20%, в то время как отклонение 40%. Можно судить, что люди на тарифе 'ultra' стараются как раз использовать лимит интернета до предела, в то время как пользователи тарифа 'smart' часто его переступают.\n",
    "- В плане сообщений пользователи тарифа 'smart' используют их ближе к лимиту, а более дорогого - примерно столько же как и на дешевом, но при этом лимит у них в 20 раз выше. Скорее всего СМС сообщениями люди пользуются в целом мало."
   ]
  },
  {
   "cell_type": "code",
   "execution_count": 36,
   "metadata": {},
   "outputs": [],
   "source": [
    "df_users_by_month=(df_users_total.groupby(['tariff','month'])\n",
    "                   [['calls_duration','internet_mb_used','messages','total_revenue']].\n",
    "                   agg(['sum','mean','count']))"
   ]
  },
  {
   "cell_type": "code",
   "execution_count": 37,
   "metadata": {},
   "outputs": [
    {
     "data": {
      "text/html": [
       "<div>\n",
       "<style scoped>\n",
       "    .dataframe tbody tr th:only-of-type {\n",
       "        vertical-align: middle;\n",
       "    }\n",
       "\n",
       "    .dataframe tbody tr th {\n",
       "        vertical-align: top;\n",
       "    }\n",
       "\n",
       "    .dataframe thead tr th {\n",
       "        text-align: left;\n",
       "    }\n",
       "\n",
       "    .dataframe thead tr:last-of-type th {\n",
       "        text-align: right;\n",
       "    }\n",
       "</style>\n",
       "<table border=\"1\" class=\"dataframe\">\n",
       "  <thead>\n",
       "    <tr>\n",
       "      <th></th>\n",
       "      <th></th>\n",
       "      <th colspan=\"3\" halign=\"left\">calls_duration</th>\n",
       "      <th colspan=\"3\" halign=\"left\">internet_mb_used</th>\n",
       "      <th colspan=\"3\" halign=\"left\">messages</th>\n",
       "      <th colspan=\"3\" halign=\"left\">total_revenue</th>\n",
       "    </tr>\n",
       "    <tr>\n",
       "      <th></th>\n",
       "      <th></th>\n",
       "      <th>sum</th>\n",
       "      <th>mean</th>\n",
       "      <th>count</th>\n",
       "      <th>sum</th>\n",
       "      <th>mean</th>\n",
       "      <th>count</th>\n",
       "      <th>sum</th>\n",
       "      <th>mean</th>\n",
       "      <th>count</th>\n",
       "      <th>sum</th>\n",
       "      <th>mean</th>\n",
       "      <th>count</th>\n",
       "    </tr>\n",
       "    <tr>\n",
       "      <th>tariff</th>\n",
       "      <th>month</th>\n",
       "      <th></th>\n",
       "      <th></th>\n",
       "      <th></th>\n",
       "      <th></th>\n",
       "      <th></th>\n",
       "      <th></th>\n",
       "      <th></th>\n",
       "      <th></th>\n",
       "      <th></th>\n",
       "      <th></th>\n",
       "      <th></th>\n",
       "      <th></th>\n",
       "    </tr>\n",
       "  </thead>\n",
       "  <tbody>\n",
       "    <tr>\n",
       "      <td rowspan=\"12\" valign=\"top\">smart</td>\n",
       "      <td>1.0</td>\n",
       "      <td>6580.0</td>\n",
       "      <td>193.529412</td>\n",
       "      <td>34</td>\n",
       "      <td>289482.0</td>\n",
       "      <td>8514.176471</td>\n",
       "      <td>34</td>\n",
       "      <td>620.0</td>\n",
       "      <td>20.000000</td>\n",
       "      <td>31</td>\n",
       "      <td>23907.00</td>\n",
       "      <td>703.147059</td>\n",
       "      <td>34</td>\n",
       "    </tr>\n",
       "    <tr>\n",
       "      <td>2.0</td>\n",
       "      <td>16438.0</td>\n",
       "      <td>283.413793</td>\n",
       "      <td>58</td>\n",
       "      <td>672656.0</td>\n",
       "      <td>11597.517241</td>\n",
       "      <td>58</td>\n",
       "      <td>1397.0</td>\n",
       "      <td>27.940000</td>\n",
       "      <td>50</td>\n",
       "      <td>45926.40</td>\n",
       "      <td>791.834483</td>\n",
       "      <td>58</td>\n",
       "    </tr>\n",
       "    <tr>\n",
       "      <td>3.0</td>\n",
       "      <td>28362.0</td>\n",
       "      <td>368.337662</td>\n",
       "      <td>77</td>\n",
       "      <td>1163058.0</td>\n",
       "      <td>15104.649351</td>\n",
       "      <td>77</td>\n",
       "      <td>2453.0</td>\n",
       "      <td>35.550725</td>\n",
       "      <td>69</td>\n",
       "      <td>84455.20</td>\n",
       "      <td>1096.820779</td>\n",
       "      <td>77</td>\n",
       "    </tr>\n",
       "    <tr>\n",
       "      <td>4.0</td>\n",
       "      <td>38839.0</td>\n",
       "      <td>346.776786</td>\n",
       "      <td>112</td>\n",
       "      <td>1507817.0</td>\n",
       "      <td>13462.651786</td>\n",
       "      <td>112</td>\n",
       "      <td>3443.0</td>\n",
       "      <td>35.864583</td>\n",
       "      <td>96</td>\n",
       "      <td>101234.00</td>\n",
       "      <td>903.875000</td>\n",
       "      <td>112</td>\n",
       "    </tr>\n",
       "    <tr>\n",
       "      <td>5.0</td>\n",
       "      <td>51565.0</td>\n",
       "      <td>365.709220</td>\n",
       "      <td>141</td>\n",
       "      <td>2228598.0</td>\n",
       "      <td>15805.659574</td>\n",
       "      <td>141</td>\n",
       "      <td>4762.0</td>\n",
       "      <td>39.032787</td>\n",
       "      <td>122</td>\n",
       "      <td>159518.60</td>\n",
       "      <td>1131.337589</td>\n",
       "      <td>141</td>\n",
       "    </tr>\n",
       "    <tr>\n",
       "      <td>6.0</td>\n",
       "      <td>61283.0</td>\n",
       "      <td>375.969325</td>\n",
       "      <td>163</td>\n",
       "      <td>2590405.0</td>\n",
       "      <td>15795.152439</td>\n",
       "      <td>164</td>\n",
       "      <td>5478.0</td>\n",
       "      <td>38.577465</td>\n",
       "      <td>142</td>\n",
       "      <td>185523.80</td>\n",
       "      <td>1131.242683</td>\n",
       "      <td>164</td>\n",
       "    </tr>\n",
       "    <tr>\n",
       "      <td>7.0</td>\n",
       "      <td>77587.0</td>\n",
       "      <td>386.004975</td>\n",
       "      <td>201</td>\n",
       "      <td>3164469.0</td>\n",
       "      <td>15743.626866</td>\n",
       "      <td>201</td>\n",
       "      <td>6784.0</td>\n",
       "      <td>38.988506</td>\n",
       "      <td>174</td>\n",
       "      <td>230373.00</td>\n",
       "      <td>1146.134328</td>\n",
       "      <td>201</td>\n",
       "    </tr>\n",
       "    <tr>\n",
       "      <td>8.0</td>\n",
       "      <td>93616.0</td>\n",
       "      <td>400.068376</td>\n",
       "      <td>234</td>\n",
       "      <td>3903634.0</td>\n",
       "      <td>16682.196581</td>\n",
       "      <td>234</td>\n",
       "      <td>7905.0</td>\n",
       "      <td>38.750000</td>\n",
       "      <td>204</td>\n",
       "      <td>290888.00</td>\n",
       "      <td>1237.821277</td>\n",
       "      <td>235</td>\n",
       "    </tr>\n",
       "    <tr>\n",
       "      <td>9.0</td>\n",
       "      <td>105303.0</td>\n",
       "      <td>406.575290</td>\n",
       "      <td>259</td>\n",
       "      <td>4239065.0</td>\n",
       "      <td>16304.096154</td>\n",
       "      <td>260</td>\n",
       "      <td>8746.0</td>\n",
       "      <td>39.219731</td>\n",
       "      <td>223</td>\n",
       "      <td>305368.80</td>\n",
       "      <td>1174.495385</td>\n",
       "      <td>260</td>\n",
       "    </tr>\n",
       "    <tr>\n",
       "      <td>10.0</td>\n",
       "      <td>118412.0</td>\n",
       "      <td>404.136519</td>\n",
       "      <td>293</td>\n",
       "      <td>4926731.0</td>\n",
       "      <td>16757.588435</td>\n",
       "      <td>294</td>\n",
       "      <td>9927.0</td>\n",
       "      <td>39.082677</td>\n",
       "      <td>254</td>\n",
       "      <td>377113.60</td>\n",
       "      <td>1282.699320</td>\n",
       "      <td>294</td>\n",
       "    </tr>\n",
       "    <tr>\n",
       "      <td>11.0</td>\n",
       "      <td>129908.0</td>\n",
       "      <td>412.406349</td>\n",
       "      <td>315</td>\n",
       "      <td>5339197.0</td>\n",
       "      <td>16896.193038</td>\n",
       "      <td>316</td>\n",
       "      <td>10768.0</td>\n",
       "      <td>39.881481</td>\n",
       "      <td>270</td>\n",
       "      <td>398018.60</td>\n",
       "      <td>1259.552532</td>\n",
       "      <td>316</td>\n",
       "    </tr>\n",
       "    <tr>\n",
       "      <td>12.0</td>\n",
       "      <td>152391.0</td>\n",
       "      <td>453.544643</td>\n",
       "      <td>336</td>\n",
       "      <td>6104468.0</td>\n",
       "      <td>18114.148368</td>\n",
       "      <td>337</td>\n",
       "      <td>12130.0</td>\n",
       "      <td>42.264808</td>\n",
       "      <td>287</td>\n",
       "      <td>497063.60</td>\n",
       "      <td>1474.966172</td>\n",
       "      <td>337</td>\n",
       "    </tr>\n",
       "    <tr>\n",
       "      <td rowspan=\"12\" valign=\"top\">ultra</td>\n",
       "      <td>1.0</td>\n",
       "      <td>3648.0</td>\n",
       "      <td>405.333333</td>\n",
       "      <td>9</td>\n",
       "      <td>118272.0</td>\n",
       "      <td>13141.333333</td>\n",
       "      <td>9</td>\n",
       "      <td>304.0</td>\n",
       "      <td>43.428571</td>\n",
       "      <td>7</td>\n",
       "      <td>17550.00</td>\n",
       "      <td>1950.000000</td>\n",
       "      <td>9</td>\n",
       "    </tr>\n",
       "    <tr>\n",
       "      <td>2.0</td>\n",
       "      <td>6748.0</td>\n",
       "      <td>281.166667</td>\n",
       "      <td>24</td>\n",
       "      <td>282632.0</td>\n",
       "      <td>12846.909091</td>\n",
       "      <td>22</td>\n",
       "      <td>527.0</td>\n",
       "      <td>32.937500</td>\n",
       "      <td>16</td>\n",
       "      <td>47357.25</td>\n",
       "      <td>1973.218750</td>\n",
       "      <td>24</td>\n",
       "    </tr>\n",
       "    <tr>\n",
       "      <td>3.0</td>\n",
       "      <td>17130.0</td>\n",
       "      <td>462.972973</td>\n",
       "      <td>37</td>\n",
       "      <td>648835.0</td>\n",
       "      <td>17536.081081</td>\n",
       "      <td>37</td>\n",
       "      <td>1195.0</td>\n",
       "      <td>47.800000</td>\n",
       "      <td>25</td>\n",
       "      <td>74178.90</td>\n",
       "      <td>2004.835135</td>\n",
       "      <td>37</td>\n",
       "    </tr>\n",
       "    <tr>\n",
       "      <td>4.0</td>\n",
       "      <td>23780.0</td>\n",
       "      <td>448.679245</td>\n",
       "      <td>53</td>\n",
       "      <td>925574.0</td>\n",
       "      <td>16828.618182</td>\n",
       "      <td>55</td>\n",
       "      <td>1736.0</td>\n",
       "      <td>44.512821</td>\n",
       "      <td>39</td>\n",
       "      <td>109785.90</td>\n",
       "      <td>1996.107273</td>\n",
       "      <td>55</td>\n",
       "    </tr>\n",
       "    <tr>\n",
       "      <td>5.0</td>\n",
       "      <td>32308.0</td>\n",
       "      <td>504.812500</td>\n",
       "      <td>64</td>\n",
       "      <td>1297367.0</td>\n",
       "      <td>19657.075758</td>\n",
       "      <td>66</td>\n",
       "      <td>2536.0</td>\n",
       "      <td>48.769231</td>\n",
       "      <td>52</td>\n",
       "      <td>137818.35</td>\n",
       "      <td>2056.990299</td>\n",
       "      <td>67</td>\n",
       "    </tr>\n",
       "    <tr>\n",
       "      <td>6.0</td>\n",
       "      <td>38090.0</td>\n",
       "      <td>470.246914</td>\n",
       "      <td>81</td>\n",
       "      <td>1589735.0</td>\n",
       "      <td>19153.433735</td>\n",
       "      <td>83</td>\n",
       "      <td>3505.0</td>\n",
       "      <td>52.313433</td>\n",
       "      <td>67</td>\n",
       "      <td>170814.00</td>\n",
       "      <td>2033.500000</td>\n",
       "      <td>84</td>\n",
       "    </tr>\n",
       "    <tr>\n",
       "      <td>7.0</td>\n",
       "      <td>46929.0</td>\n",
       "      <td>533.284091</td>\n",
       "      <td>88</td>\n",
       "      <td>1865150.0</td>\n",
       "      <td>20723.888889</td>\n",
       "      <td>90</td>\n",
       "      <td>4536.0</td>\n",
       "      <td>62.136986</td>\n",
       "      <td>73</td>\n",
       "      <td>192151.65</td>\n",
       "      <td>2111.556593</td>\n",
       "      <td>91</td>\n",
       "    </tr>\n",
       "    <tr>\n",
       "      <td>8.0</td>\n",
       "      <td>51618.0</td>\n",
       "      <td>501.145631</td>\n",
       "      <td>103</td>\n",
       "      <td>2094693.0</td>\n",
       "      <td>19761.254717</td>\n",
       "      <td>106</td>\n",
       "      <td>5183.0</td>\n",
       "      <td>58.897727</td>\n",
       "      <td>88</td>\n",
       "      <td>221841.75</td>\n",
       "      <td>2073.287383</td>\n",
       "      <td>107</td>\n",
       "    </tr>\n",
       "    <tr>\n",
       "      <td>9.0</td>\n",
       "      <td>58605.0</td>\n",
       "      <td>527.972973</td>\n",
       "      <td>111</td>\n",
       "      <td>2208549.0</td>\n",
       "      <td>19373.236842</td>\n",
       "      <td>114</td>\n",
       "      <td>6013.0</td>\n",
       "      <td>63.294737</td>\n",
       "      <td>95</td>\n",
       "      <td>231690.15</td>\n",
       "      <td>2014.696957</td>\n",
       "      <td>115</td>\n",
       "    </tr>\n",
       "    <tr>\n",
       "      <td>10.0</td>\n",
       "      <td>64859.0</td>\n",
       "      <td>549.652542</td>\n",
       "      <td>118</td>\n",
       "      <td>2465640.0</td>\n",
       "      <td>20210.163934</td>\n",
       "      <td>122</td>\n",
       "      <td>7187.0</td>\n",
       "      <td>69.776699</td>\n",
       "      <td>103</td>\n",
       "      <td>253237.05</td>\n",
       "      <td>2058.837805</td>\n",
       "      <td>123</td>\n",
       "    </tr>\n",
       "    <tr>\n",
       "      <td>11.0</td>\n",
       "      <td>68522.0</td>\n",
       "      <td>531.178295</td>\n",
       "      <td>129</td>\n",
       "      <td>2651500.0</td>\n",
       "      <td>19936.090226</td>\n",
       "      <td>133</td>\n",
       "      <td>7476.0</td>\n",
       "      <td>66.159292</td>\n",
       "      <td>113</td>\n",
       "      <td>279141.45</td>\n",
       "      <td>2083.145149</td>\n",
       "      <td>134</td>\n",
       "    </tr>\n",
       "    <tr>\n",
       "      <td>12.0</td>\n",
       "      <td>77851.0</td>\n",
       "      <td>580.977612</td>\n",
       "      <td>134</td>\n",
       "      <td>3029323.0</td>\n",
       "      <td>21951.615942</td>\n",
       "      <td>138</td>\n",
       "      <td>8425.0</td>\n",
       "      <td>72.008547</td>\n",
       "      <td>117</td>\n",
       "      <td>296012.55</td>\n",
       "      <td>2129.586691</td>\n",
       "      <td>139</td>\n",
       "    </tr>\n",
       "  </tbody>\n",
       "</table>\n",
       "</div>"
      ],
      "text/plain": [
       "             calls_duration                   internet_mb_used                \\\n",
       "                        sum        mean count              sum          mean   \n",
       "tariff month                                                                   \n",
       "smart  1.0           6580.0  193.529412    34         289482.0   8514.176471   \n",
       "       2.0          16438.0  283.413793    58         672656.0  11597.517241   \n",
       "       3.0          28362.0  368.337662    77        1163058.0  15104.649351   \n",
       "       4.0          38839.0  346.776786   112        1507817.0  13462.651786   \n",
       "       5.0          51565.0  365.709220   141        2228598.0  15805.659574   \n",
       "       6.0          61283.0  375.969325   163        2590405.0  15795.152439   \n",
       "       7.0          77587.0  386.004975   201        3164469.0  15743.626866   \n",
       "       8.0          93616.0  400.068376   234        3903634.0  16682.196581   \n",
       "       9.0         105303.0  406.575290   259        4239065.0  16304.096154   \n",
       "       10.0        118412.0  404.136519   293        4926731.0  16757.588435   \n",
       "       11.0        129908.0  412.406349   315        5339197.0  16896.193038   \n",
       "       12.0        152391.0  453.544643   336        6104468.0  18114.148368   \n",
       "ultra  1.0           3648.0  405.333333     9         118272.0  13141.333333   \n",
       "       2.0           6748.0  281.166667    24         282632.0  12846.909091   \n",
       "       3.0          17130.0  462.972973    37         648835.0  17536.081081   \n",
       "       4.0          23780.0  448.679245    53         925574.0  16828.618182   \n",
       "       5.0          32308.0  504.812500    64        1297367.0  19657.075758   \n",
       "       6.0          38090.0  470.246914    81        1589735.0  19153.433735   \n",
       "       7.0          46929.0  533.284091    88        1865150.0  20723.888889   \n",
       "       8.0          51618.0  501.145631   103        2094693.0  19761.254717   \n",
       "       9.0          58605.0  527.972973   111        2208549.0  19373.236842   \n",
       "       10.0         64859.0  549.652542   118        2465640.0  20210.163934   \n",
       "       11.0         68522.0  531.178295   129        2651500.0  19936.090226   \n",
       "       12.0         77851.0  580.977612   134        3029323.0  21951.615942   \n",
       "\n",
       "                   messages                  total_revenue                     \n",
       "             count      sum       mean count           sum         mean count  \n",
       "tariff month                                                                   \n",
       "smart  1.0      34    620.0  20.000000    31      23907.00   703.147059    34  \n",
       "       2.0      58   1397.0  27.940000    50      45926.40   791.834483    58  \n",
       "       3.0      77   2453.0  35.550725    69      84455.20  1096.820779    77  \n",
       "       4.0     112   3443.0  35.864583    96     101234.00   903.875000   112  \n",
       "       5.0     141   4762.0  39.032787   122     159518.60  1131.337589   141  \n",
       "       6.0     164   5478.0  38.577465   142     185523.80  1131.242683   164  \n",
       "       7.0     201   6784.0  38.988506   174     230373.00  1146.134328   201  \n",
       "       8.0     234   7905.0  38.750000   204     290888.00  1237.821277   235  \n",
       "       9.0     260   8746.0  39.219731   223     305368.80  1174.495385   260  \n",
       "       10.0    294   9927.0  39.082677   254     377113.60  1282.699320   294  \n",
       "       11.0    316  10768.0  39.881481   270     398018.60  1259.552532   316  \n",
       "       12.0    337  12130.0  42.264808   287     497063.60  1474.966172   337  \n",
       "ultra  1.0       9    304.0  43.428571     7      17550.00  1950.000000     9  \n",
       "       2.0      22    527.0  32.937500    16      47357.25  1973.218750    24  \n",
       "       3.0      37   1195.0  47.800000    25      74178.90  2004.835135    37  \n",
       "       4.0      55   1736.0  44.512821    39     109785.90  1996.107273    55  \n",
       "       5.0      66   2536.0  48.769231    52     137818.35  2056.990299    67  \n",
       "       6.0      83   3505.0  52.313433    67     170814.00  2033.500000    84  \n",
       "       7.0      90   4536.0  62.136986    73     192151.65  2111.556593    91  \n",
       "       8.0     106   5183.0  58.897727    88     221841.75  2073.287383   107  \n",
       "       9.0     114   6013.0  63.294737    95     231690.15  2014.696957   115  \n",
       "       10.0    122   7187.0  69.776699   103     253237.05  2058.837805   123  \n",
       "       11.0    133   7476.0  66.159292   113     279141.45  2083.145149   134  \n",
       "       12.0    138   8425.0  72.008547   117     296012.55  2129.586691   139  "
      ]
     },
     "execution_count": 37,
     "metadata": {},
     "output_type": "execute_result"
    }
   ],
   "source": [
    "df_users_by_month"
   ]
  },
  {
   "cell_type": "markdown",
   "metadata": {},
   "source": [
    "Мы видим плавное увеличение числа пользователей в течение года. Пользователей тарифа 'smart' в среднем в 2 раза больше, чем 'ultra'.\n",
    "- Соответственно, люди подключенные к 'smart' тратят в два раза больше минут звонков,чем пользователи 'ultra', хотя разница в среднем показателе отличается в пользу второго всего на 20%. При этом если люди с тарфом 'smart' укладываются в свой пакет или выходят за него не значительно, то  пользователи 'ultra' недобирают и половины пакета, а по итогу разговаривают чуть больше, чем пользователи более дешевого тарифа.\n",
    "- Если же рассмотреть потребление интернет трафика, то видим схожую картину. Общая сумма потребления трафика между пользователями тарифов отличается от месяца к месяцу примерно в 2 раза, но среднее потребление трафика с течением года на тарифе 'smart' вырастает в 2 раза и выходит за лимит пакета, что заставляет пользователь вносить дополнительную плату, а на тарифе 'ultra' мы видим, что потребление трафика возрастает за год на 50% и при этом пользователи тратят всего лишь 2/3 всего пакета.\n",
    "- СМС сообщения в обоих пакетах пользуются низкой популярностью по сравнению с звонками. В среднем пользователи укладываются в лимит пакета. Но если и выходят за него, то доля выручки от СМС будет незначительна."
   ]
  },
  {
   "cell_type": "markdown",
   "metadata": {},
   "source": [
    "На основании всего вышесказанного можно сделать вывод, что тариф 'ultra' является избыточным для пользователей и им редко приходится платить сверх тарифа, но их потребление мало отличается от пользователей тарифа 'smart'.\n",
    "В то время как для пользователей тарифа 'smart' лимита минут в среднем достаточно, но потребление трафика интернета выходит за лимит, что заставляет их тратить дополнительные средства для обеспечения своих потребностей.\n",
    "Номинально мы видим, что средние траты пользователей тарифа 'ultra' выше, чем пользователей 'smart', но доход сверх тарифа доходит до 20%, а в случае тарифа 'smart' видим обратную картину. Номинальная стоимость ниже, но доход сверх тарифа доходит до практически 150% к концу года."
   ]
  },
  {
   "cell_type": "markdown",
   "metadata": {},
   "source": [
    "### Шаг 4. Проверьте гипотезы"
   ]
  },
  {
   "cell_type": "markdown",
   "metadata": {},
   "source": [
    "###### средняя выручка пользователей тарифов «Ультра» и «Смарт» различается"
   ]
  },
  {
   "cell_type": "markdown",
   "metadata": {},
   "source": [
    "Применим гипотезу о равенстве двух генеральных совокупностей. За нулевую гипотезу примем случай равенства средней выручки тарифов.\n",
    "\n",
    "H0 : total_revenue('ultra').mean == total_revenue('smart').mean \n",
    "___\n",
    "H1 : total_revenue('ultra').mean != total_revenue('smart').mean "
   ]
  },
  {
   "cell_type": "code",
   "execution_count": 38,
   "metadata": {},
   "outputs": [
    {
     "data": {
      "text/plain": [
       "2061.835519677094"
      ]
     },
     "execution_count": 38,
     "metadata": {},
     "output_type": "execute_result"
    }
   ],
   "source": [
    "total_revenue_ultra=df_users_total.query('tariff==\"ultra\"')['total_revenue'].dropna()\n",
    "total_revenue_ultra\n",
    "total_revenue_ultra.mean()"
   ]
  },
  {
   "cell_type": "code",
   "execution_count": 39,
   "metadata": {},
   "outputs": [
    {
     "data": {
      "text/plain": [
       "1210.4395338413267"
      ]
     },
     "execution_count": 39,
     "metadata": {},
     "output_type": "execute_result"
    }
   ],
   "source": [
    "total_revenue_smart=df_users_total.query('tariff==\"smart\"')['total_revenue'].dropna()\n",
    "total_revenue_smart\n",
    "total_revenue_smart.mean()"
   ]
  },
  {
   "cell_type": "code",
   "execution_count": 40,
   "metadata": {},
   "outputs": [],
   "source": [
    "alpha=0.05"
   ]
  },
  {
   "cell_type": "code",
   "execution_count": 41,
   "metadata": {},
   "outputs": [],
   "source": [
    "result_test1=st.ttest_ind(total_revenue_ultra,total_revenue_smart, equal_var=False)"
   ]
  },
  {
   "cell_type": "code",
   "execution_count": 42,
   "metadata": {},
   "outputs": [
    {
     "name": "stdout",
     "output_type": "stream",
     "text": [
      "1.652185663011003e-309\n"
     ]
    }
   ],
   "source": [
    "print(result_test1.pvalue)"
   ]
  },
  {
   "cell_type": "code",
   "execution_count": 43,
   "metadata": {},
   "outputs": [
    {
     "name": "stdout",
     "output_type": "stream",
     "text": [
      "Нулева гипотеза отвергнута\n"
     ]
    }
   ],
   "source": [
    "if result_test1.pvalue > alpha:\n",
    "    print('Нулевую гипотезу не получается отвергнуть')\n",
    "else:\n",
    "    print('Нулева гипотеза отвергнута')"
   ]
  },
  {
   "cell_type": "markdown",
   "metadata": {},
   "source": [
    "Как видим наша гипотезу отвергнута, мы с вероятностью близкой к 0 могли бы получить такие значения"
   ]
  },
  {
   "cell_type": "markdown",
   "metadata": {},
   "source": [
    "###### средняя выручка пользователей из Москвы отличается от выручки пользователей из других регионов"
   ]
  },
  {
   "cell_type": "markdown",
   "metadata": {},
   "source": [
    "Также применим гипотезу о равенстве двух генеральных совокупностей. За нулевую гипотезу примем случай равенства средней выручки пользователей из Москвы и других регионов.\n",
    "\n",
    "H0 : total_revenue_moscow.mean()==total_revenue_notmoscow.mean()\n",
    "_____\n",
    "H1 : total_revenue_moscow.mean()!=total_revenue_notmoscow.mean()"
   ]
  },
  {
   "cell_type": "code",
   "execution_count": 44,
   "metadata": {},
   "outputs": [
    {
     "data": {
      "text/plain": [
       "1493.9837152209493"
      ]
     },
     "execution_count": 44,
     "metadata": {},
     "output_type": "execute_result"
    }
   ],
   "source": [
    "total_revenue_moscow=df_users_total.query('city==\"Москва\"')['total_revenue'].dropna()\n",
    "total_revenue_moscow\n",
    "total_revenue_moscow.mean()"
   ]
  },
  {
   "cell_type": "code",
   "execution_count": 45,
   "metadata": {},
   "outputs": [
    {
     "data": {
      "text/plain": [
       "1467.2330716200688"
      ]
     },
     "execution_count": 45,
     "metadata": {},
     "output_type": "execute_result"
    }
   ],
   "source": [
    "total_revenue_notmoscow=df_users_total.query('city!=\"Москва\"')['total_revenue'].dropna()\n",
    "total_revenue_notmoscow\n",
    "total_revenue_notmoscow.mean()"
   ]
  },
  {
   "cell_type": "code",
   "execution_count": 46,
   "metadata": {},
   "outputs": [],
   "source": [
    "result_test2=st.ttest_ind(total_revenue_moscow,total_revenue_notmoscow, equal_var=False)"
   ]
  },
  {
   "cell_type": "code",
   "execution_count": 47,
   "metadata": {},
   "outputs": [],
   "source": [
    "alpha=0.05"
   ]
  },
  {
   "cell_type": "code",
   "execution_count": 48,
   "metadata": {},
   "outputs": [
    {
     "name": "stdout",
     "output_type": "stream",
     "text": [
      "0.4309304217375167\n"
     ]
    }
   ],
   "source": [
    "print(result_test2.pvalue)"
   ]
  },
  {
   "cell_type": "code",
   "execution_count": 49,
   "metadata": {},
   "outputs": [
    {
     "name": "stdout",
     "output_type": "stream",
     "text": [
      "Нулевую гипотезу не получается отвергнуть\n"
     ]
    }
   ],
   "source": [
    "if result_test2.pvalue > alpha:\n",
    "    print('Нулевую гипотезу не получается отвергнуть')\n",
    "else:\n",
    "    print('Нулева гипотеза отвергнута')"
   ]
  },
  {
   "cell_type": "markdown",
   "metadata": {},
   "source": [
    "Как видим, хоть наши средние выручки и не одинаковые, но с вероятностью 47% процентов мы могли получить такие значения случайной величины или больше. Эта вероятность достаточна, чтобы не отвергать гипотезу"
   ]
  },
  {
   "cell_type": "markdown",
   "metadata": {},
   "source": [
    "## Вывод:\n"
   ]
  },
  {
   "cell_type": "markdown",
   "metadata": {},
   "source": [
    "* Мы прочитали таблицы, объединили их, произвели замену пропусков где это возможно, посчитали параметры выручки для каждого пользователя по месяцам, проанализировали гистограммы, посчитали дисперсию и стандартное отклонение для каждого тарифа, построили сводную таблицу по тратам трафика по каждому направлению(звонки, интернет, СМС) и выручкой средней и общей по месяцам.\n",
    "* Проанализировали эти данные, сделали первые предположения о поведении клиентов, их тратах сверх тарифа.  \n",
    "Пользователи более дорогого тарифа 'ultra' меньше тратят денег сверх тарифа, при этом недоиспользуют лимиты трафика, а пользователи более дешевого тарифа в случае звонков используют лимит тарифа по максимуму и редко переплачивают по этому параметру, в то время как они часто докупают дополнительный интернет, что и составляет большую часть их трат сверх пакета. \n",
    "В итоге получаем, что стоимость тарифа 'smart' выростает практически в 2.5 раза по сравнению с базовой стоимостью.\n",
    "* Статистически проверили две гипотезы:\n",
    "    - средняя выручка пользователей тарифов «Ультра» и «Смарт» различается\n",
    "    - средняя выручка пользователей из Москвы отличается от выручки пользователей из других регионов  \n",
    "По результатам проверки мы отвергли первух гипотезу и не отвергли вторую.\n",
    "* Однозначно оценить тарифы не получается, с одной стороны у тарифа 'ultra' выше средяя выручка от пользователя, но в целом пользователей меньше и суммарный доход ниже чем от тарифа 'smart'. Можно предположить, что перспективнее является более дешевый тариф за счет большего кол-ва пользователей и возможности их дополнительно покупать трафик, но данная ситуация нестабильна и если конкуренты предложат более выгодный тариф с большим лимитом интернета за примелемую сумму, то они могут быстро перейти, т.к. их основные траты это интернет.   \n",
    "Можно предложить развивать тариф 'ultra', но его цена высокая и лимиты в тарифе избыточны.  \n",
    "Можно скорректировать лимиты и снизить цену, уменьшив минуты и трафик интернета. В таком случае мы можем получить сбалансированный тариф. "
   ]
  },
  {
   "cell_type": "code",
   "execution_count": null,
   "metadata": {},
   "outputs": [],
   "source": []
  }
 ],
 "metadata": {
  "kernelspec": {
   "display_name": "Python 3",
   "language": "python",
   "name": "python3"
  },
  "language_info": {
   "codemirror_mode": {
    "name": "ipython",
    "version": 3
   },
   "file_extension": ".py",
   "mimetype": "text/x-python",
   "name": "python",
   "nbconvert_exporter": "python",
   "pygments_lexer": "ipython3",
   "version": "3.7.6"
  }
 },
 "nbformat": 4,
 "nbformat_minor": 2
}
